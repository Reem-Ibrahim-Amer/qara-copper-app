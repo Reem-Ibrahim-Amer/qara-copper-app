{
  "nbformat": 4,
  "nbformat_minor": 0,
  "metadata": {
    "colab": {
      "provenance": []
    },
    "kernelspec": {
      "name": "python3",
      "display_name": "Python 3"
    },
    "language_info": {
      "name": "python"
    }
  },
  "cells": [
    {
      "cell_type": "markdown",
      "source": [
        "## Import libraries"
      ],
      "metadata": {
        "id": "qPOW-bQDHq4a"
      }
    },
    {
      "cell_type": "code",
      "execution_count": null,
      "metadata": {
        "id": "VAn_yjrHHmhM"
      },
      "outputs": [],
      "source": [
        "import pandas as pd\n",
        "import numpy as np\n",
        "import matplotlib.pyplot as plt\n",
        "import seaborn as sns\n",
        "import torch\n",
        "import torch.nn\n",
        "import yfinance as yf"
      ]
    },
    {
      "cell_type": "markdown",
      "source": [
        "## Import data"
      ],
      "metadata": {
        "id": "1BCVABcwIFY1"
      }
    },
    {
      "cell_type": "code",
      "source": [
        "df = yf.Ticker('HG=F').history('10y')\n",
        "df.head()"
      ],
      "metadata": {
        "colab": {
          "base_uri": "https://localhost:8080/",
          "height": 237
        },
        "id": "LNjLi4zFIHw7",
        "outputId": "c2fd5456-e932-48f9-d58f-a7ae54f796be"
      },
      "execution_count": null,
      "outputs": [
        {
          "output_type": "execute_result",
          "data": {
            "text/plain": [
              "                            Open    High     Low  Close  Volume  Dividends  \\\n",
              "Date                                                                         \n",
              "2013-12-12 00:00:00-05:00  3.329  3.3420  3.3220  3.332     419        0.0   \n",
              "2013-12-13 00:00:00-05:00  3.330  3.3570  3.3185  3.352     581        0.0   \n",
              "2013-12-16 00:00:00-05:00  3.360  3.3770  3.3555  3.376     506        0.0   \n",
              "2013-12-17 00:00:00-05:00  3.365  3.3785  3.3600  3.367     533        0.0   \n",
              "2013-12-18 00:00:00-05:00  3.355  3.3710  3.3500  3.361     646        0.0   \n",
              "\n",
              "                           Stock Splits  \n",
              "Date                                     \n",
              "2013-12-12 00:00:00-05:00           0.0  \n",
              "2013-12-13 00:00:00-05:00           0.0  \n",
              "2013-12-16 00:00:00-05:00           0.0  \n",
              "2013-12-17 00:00:00-05:00           0.0  \n",
              "2013-12-18 00:00:00-05:00           0.0  "
            ],
            "text/html": [
              "\n",
              "  <div id=\"df-8ca275fe-7c73-4f1b-a60e-cd1ca1e54fc4\" class=\"colab-df-container\">\n",
              "    <div>\n",
              "<style scoped>\n",
              "    .dataframe tbody tr th:only-of-type {\n",
              "        vertical-align: middle;\n",
              "    }\n",
              "\n",
              "    .dataframe tbody tr th {\n",
              "        vertical-align: top;\n",
              "    }\n",
              "\n",
              "    .dataframe thead th {\n",
              "        text-align: right;\n",
              "    }\n",
              "</style>\n",
              "<table border=\"1\" class=\"dataframe\">\n",
              "  <thead>\n",
              "    <tr style=\"text-align: right;\">\n",
              "      <th></th>\n",
              "      <th>Open</th>\n",
              "      <th>High</th>\n",
              "      <th>Low</th>\n",
              "      <th>Close</th>\n",
              "      <th>Volume</th>\n",
              "      <th>Dividends</th>\n",
              "      <th>Stock Splits</th>\n",
              "    </tr>\n",
              "    <tr>\n",
              "      <th>Date</th>\n",
              "      <th></th>\n",
              "      <th></th>\n",
              "      <th></th>\n",
              "      <th></th>\n",
              "      <th></th>\n",
              "      <th></th>\n",
              "      <th></th>\n",
              "    </tr>\n",
              "  </thead>\n",
              "  <tbody>\n",
              "    <tr>\n",
              "      <th>2013-12-12 00:00:00-05:00</th>\n",
              "      <td>3.329</td>\n",
              "      <td>3.3420</td>\n",
              "      <td>3.3220</td>\n",
              "      <td>3.332</td>\n",
              "      <td>419</td>\n",
              "      <td>0.0</td>\n",
              "      <td>0.0</td>\n",
              "    </tr>\n",
              "    <tr>\n",
              "      <th>2013-12-13 00:00:00-05:00</th>\n",
              "      <td>3.330</td>\n",
              "      <td>3.3570</td>\n",
              "      <td>3.3185</td>\n",
              "      <td>3.352</td>\n",
              "      <td>581</td>\n",
              "      <td>0.0</td>\n",
              "      <td>0.0</td>\n",
              "    </tr>\n",
              "    <tr>\n",
              "      <th>2013-12-16 00:00:00-05:00</th>\n",
              "      <td>3.360</td>\n",
              "      <td>3.3770</td>\n",
              "      <td>3.3555</td>\n",
              "      <td>3.376</td>\n",
              "      <td>506</td>\n",
              "      <td>0.0</td>\n",
              "      <td>0.0</td>\n",
              "    </tr>\n",
              "    <tr>\n",
              "      <th>2013-12-17 00:00:00-05:00</th>\n",
              "      <td>3.365</td>\n",
              "      <td>3.3785</td>\n",
              "      <td>3.3600</td>\n",
              "      <td>3.367</td>\n",
              "      <td>533</td>\n",
              "      <td>0.0</td>\n",
              "      <td>0.0</td>\n",
              "    </tr>\n",
              "    <tr>\n",
              "      <th>2013-12-18 00:00:00-05:00</th>\n",
              "      <td>3.355</td>\n",
              "      <td>3.3710</td>\n",
              "      <td>3.3500</td>\n",
              "      <td>3.361</td>\n",
              "      <td>646</td>\n",
              "      <td>0.0</td>\n",
              "      <td>0.0</td>\n",
              "    </tr>\n",
              "  </tbody>\n",
              "</table>\n",
              "</div>\n",
              "    <div class=\"colab-df-buttons\">\n",
              "\n",
              "  <div class=\"colab-df-container\">\n",
              "    <button class=\"colab-df-convert\" onclick=\"convertToInteractive('df-8ca275fe-7c73-4f1b-a60e-cd1ca1e54fc4')\"\n",
              "            title=\"Convert this dataframe to an interactive table.\"\n",
              "            style=\"display:none;\">\n",
              "\n",
              "  <svg xmlns=\"http://www.w3.org/2000/svg\" height=\"24px\" viewBox=\"0 -960 960 960\">\n",
              "    <path d=\"M120-120v-720h720v720H120Zm60-500h600v-160H180v160Zm220 220h160v-160H400v160Zm0 220h160v-160H400v160ZM180-400h160v-160H180v160Zm440 0h160v-160H620v160ZM180-180h160v-160H180v160Zm440 0h160v-160H620v160Z\"/>\n",
              "  </svg>\n",
              "    </button>\n",
              "\n",
              "  <style>\n",
              "    .colab-df-container {\n",
              "      display:flex;\n",
              "      gap: 12px;\n",
              "    }\n",
              "\n",
              "    .colab-df-convert {\n",
              "      background-color: #E8F0FE;\n",
              "      border: none;\n",
              "      border-radius: 50%;\n",
              "      cursor: pointer;\n",
              "      display: none;\n",
              "      fill: #1967D2;\n",
              "      height: 32px;\n",
              "      padding: 0 0 0 0;\n",
              "      width: 32px;\n",
              "    }\n",
              "\n",
              "    .colab-df-convert:hover {\n",
              "      background-color: #E2EBFA;\n",
              "      box-shadow: 0px 1px 2px rgba(60, 64, 67, 0.3), 0px 1px 3px 1px rgba(60, 64, 67, 0.15);\n",
              "      fill: #174EA6;\n",
              "    }\n",
              "\n",
              "    .colab-df-buttons div {\n",
              "      margin-bottom: 4px;\n",
              "    }\n",
              "\n",
              "    [theme=dark] .colab-df-convert {\n",
              "      background-color: #3B4455;\n",
              "      fill: #D2E3FC;\n",
              "    }\n",
              "\n",
              "    [theme=dark] .colab-df-convert:hover {\n",
              "      background-color: #434B5C;\n",
              "      box-shadow: 0px 1px 3px 1px rgba(0, 0, 0, 0.15);\n",
              "      filter: drop-shadow(0px 1px 2px rgba(0, 0, 0, 0.3));\n",
              "      fill: #FFFFFF;\n",
              "    }\n",
              "  </style>\n",
              "\n",
              "    <script>\n",
              "      const buttonEl =\n",
              "        document.querySelector('#df-8ca275fe-7c73-4f1b-a60e-cd1ca1e54fc4 button.colab-df-convert');\n",
              "      buttonEl.style.display =\n",
              "        google.colab.kernel.accessAllowed ? 'block' : 'none';\n",
              "\n",
              "      async function convertToInteractive(key) {\n",
              "        const element = document.querySelector('#df-8ca275fe-7c73-4f1b-a60e-cd1ca1e54fc4');\n",
              "        const dataTable =\n",
              "          await google.colab.kernel.invokeFunction('convertToInteractive',\n",
              "                                                    [key], {});\n",
              "        if (!dataTable) return;\n",
              "\n",
              "        const docLinkHtml = 'Like what you see? Visit the ' +\n",
              "          '<a target=\"_blank\" href=https://colab.research.google.com/notebooks/data_table.ipynb>data table notebook</a>'\n",
              "          + ' to learn more about interactive tables.';\n",
              "        element.innerHTML = '';\n",
              "        dataTable['output_type'] = 'display_data';\n",
              "        await google.colab.output.renderOutput(dataTable, element);\n",
              "        const docLink = document.createElement('div');\n",
              "        docLink.innerHTML = docLinkHtml;\n",
              "        element.appendChild(docLink);\n",
              "      }\n",
              "    </script>\n",
              "  </div>\n",
              "\n",
              "\n",
              "<div id=\"df-d3a0d72d-a70f-4803-a08f-372fd571c22a\">\n",
              "  <button class=\"colab-df-quickchart\" onclick=\"quickchart('df-d3a0d72d-a70f-4803-a08f-372fd571c22a')\"\n",
              "            title=\"Suggest charts\"\n",
              "            style=\"display:none;\">\n",
              "\n",
              "<svg xmlns=\"http://www.w3.org/2000/svg\" height=\"24px\"viewBox=\"0 0 24 24\"\n",
              "     width=\"24px\">\n",
              "    <g>\n",
              "        <path d=\"M19 3H5c-1.1 0-2 .9-2 2v14c0 1.1.9 2 2 2h14c1.1 0 2-.9 2-2V5c0-1.1-.9-2-2-2zM9 17H7v-7h2v7zm4 0h-2V7h2v10zm4 0h-2v-4h2v4z\"/>\n",
              "    </g>\n",
              "</svg>\n",
              "  </button>\n",
              "\n",
              "<style>\n",
              "  .colab-df-quickchart {\n",
              "      --bg-color: #E8F0FE;\n",
              "      --fill-color: #1967D2;\n",
              "      --hover-bg-color: #E2EBFA;\n",
              "      --hover-fill-color: #174EA6;\n",
              "      --disabled-fill-color: #AAA;\n",
              "      --disabled-bg-color: #DDD;\n",
              "  }\n",
              "\n",
              "  [theme=dark] .colab-df-quickchart {\n",
              "      --bg-color: #3B4455;\n",
              "      --fill-color: #D2E3FC;\n",
              "      --hover-bg-color: #434B5C;\n",
              "      --hover-fill-color: #FFFFFF;\n",
              "      --disabled-bg-color: #3B4455;\n",
              "      --disabled-fill-color: #666;\n",
              "  }\n",
              "\n",
              "  .colab-df-quickchart {\n",
              "    background-color: var(--bg-color);\n",
              "    border: none;\n",
              "    border-radius: 50%;\n",
              "    cursor: pointer;\n",
              "    display: none;\n",
              "    fill: var(--fill-color);\n",
              "    height: 32px;\n",
              "    padding: 0;\n",
              "    width: 32px;\n",
              "  }\n",
              "\n",
              "  .colab-df-quickchart:hover {\n",
              "    background-color: var(--hover-bg-color);\n",
              "    box-shadow: 0 1px 2px rgba(60, 64, 67, 0.3), 0 1px 3px 1px rgba(60, 64, 67, 0.15);\n",
              "    fill: var(--button-hover-fill-color);\n",
              "  }\n",
              "\n",
              "  .colab-df-quickchart-complete:disabled,\n",
              "  .colab-df-quickchart-complete:disabled:hover {\n",
              "    background-color: var(--disabled-bg-color);\n",
              "    fill: var(--disabled-fill-color);\n",
              "    box-shadow: none;\n",
              "  }\n",
              "\n",
              "  .colab-df-spinner {\n",
              "    border: 2px solid var(--fill-color);\n",
              "    border-color: transparent;\n",
              "    border-bottom-color: var(--fill-color);\n",
              "    animation:\n",
              "      spin 1s steps(1) infinite;\n",
              "  }\n",
              "\n",
              "  @keyframes spin {\n",
              "    0% {\n",
              "      border-color: transparent;\n",
              "      border-bottom-color: var(--fill-color);\n",
              "      border-left-color: var(--fill-color);\n",
              "    }\n",
              "    20% {\n",
              "      border-color: transparent;\n",
              "      border-left-color: var(--fill-color);\n",
              "      border-top-color: var(--fill-color);\n",
              "    }\n",
              "    30% {\n",
              "      border-color: transparent;\n",
              "      border-left-color: var(--fill-color);\n",
              "      border-top-color: var(--fill-color);\n",
              "      border-right-color: var(--fill-color);\n",
              "    }\n",
              "    40% {\n",
              "      border-color: transparent;\n",
              "      border-right-color: var(--fill-color);\n",
              "      border-top-color: var(--fill-color);\n",
              "    }\n",
              "    60% {\n",
              "      border-color: transparent;\n",
              "      border-right-color: var(--fill-color);\n",
              "    }\n",
              "    80% {\n",
              "      border-color: transparent;\n",
              "      border-right-color: var(--fill-color);\n",
              "      border-bottom-color: var(--fill-color);\n",
              "    }\n",
              "    90% {\n",
              "      border-color: transparent;\n",
              "      border-bottom-color: var(--fill-color);\n",
              "    }\n",
              "  }\n",
              "</style>\n",
              "\n",
              "  <script>\n",
              "    async function quickchart(key) {\n",
              "      const quickchartButtonEl =\n",
              "        document.querySelector('#' + key + ' button');\n",
              "      quickchartButtonEl.disabled = true;  // To prevent multiple clicks.\n",
              "      quickchartButtonEl.classList.add('colab-df-spinner');\n",
              "      try {\n",
              "        const charts = await google.colab.kernel.invokeFunction(\n",
              "            'suggestCharts', [key], {});\n",
              "      } catch (error) {\n",
              "        console.error('Error during call to suggestCharts:', error);\n",
              "      }\n",
              "      quickchartButtonEl.classList.remove('colab-df-spinner');\n",
              "      quickchartButtonEl.classList.add('colab-df-quickchart-complete');\n",
              "    }\n",
              "    (() => {\n",
              "      let quickchartButtonEl =\n",
              "        document.querySelector('#df-d3a0d72d-a70f-4803-a08f-372fd571c22a button');\n",
              "      quickchartButtonEl.style.display =\n",
              "        google.colab.kernel.accessAllowed ? 'block' : 'none';\n",
              "    })();\n",
              "  </script>\n",
              "</div>\n",
              "    </div>\n",
              "  </div>\n"
            ]
          },
          "metadata": {},
          "execution_count": 2
        }
      ]
    },
    {
      "cell_type": "code",
      "source": [
        "df.info()"
      ],
      "metadata": {
        "colab": {
          "base_uri": "https://localhost:8080/"
        },
        "id": "L9At-OcSI4a1",
        "outputId": "2af2b920-7bdf-42c8-d0e4-403df00172c3"
      },
      "execution_count": null,
      "outputs": [
        {
          "output_type": "stream",
          "name": "stdout",
          "text": [
            "<class 'pandas.core.frame.DataFrame'>\n",
            "DatetimeIndex: 2515 entries, 2013-12-12 00:00:00-05:00 to 2023-12-12 00:00:00-05:00\n",
            "Data columns (total 7 columns):\n",
            " #   Column        Non-Null Count  Dtype  \n",
            "---  ------        --------------  -----  \n",
            " 0   Open          2515 non-null   float64\n",
            " 1   High          2515 non-null   float64\n",
            " 2   Low           2515 non-null   float64\n",
            " 3   Close         2515 non-null   float64\n",
            " 4   Volume        2515 non-null   int64  \n",
            " 5   Dividends     2515 non-null   float64\n",
            " 6   Stock Splits  2515 non-null   float64\n",
            "dtypes: float64(6), int64(1)\n",
            "memory usage: 157.2 KB\n"
          ]
        }
      ]
    },
    {
      "cell_type": "code",
      "source": [
        "df.describe()"
      ],
      "metadata": {
        "colab": {
          "base_uri": "https://localhost:8080/",
          "height": 300
        },
        "id": "0WmViR0_Jb_N",
        "outputId": "968837af-40cd-4b31-9b53-b31c1562a413"
      },
      "execution_count": null,
      "outputs": [
        {
          "output_type": "execute_result",
          "data": {
            "text/plain": [
              "              Open         High          Low        Close        Volume  \\\n",
              "count  2515.000000  2515.000000  2515.000000  2515.000000   2515.000000   \n",
              "mean      3.115163     3.135520     3.093963     3.115966   1673.676740   \n",
              "std       0.697853     0.704051     0.691808     0.698644   6711.640825   \n",
              "min       1.936500     1.962500     1.936500     1.939500      0.000000   \n",
              "25%       2.622000     2.641250     2.603500     2.622250    330.000000   \n",
              "50%       2.970000     2.993000     2.953000     2.975500    475.000000   \n",
              "75%       3.620000     3.638500     3.605000     3.628000    710.500000   \n",
              "max       4.910000     5.010000     4.791000     4.929000  79408.000000   \n",
              "\n",
              "       Dividends  Stock Splits  \n",
              "count     2515.0        2515.0  \n",
              "mean         0.0           0.0  \n",
              "std          0.0           0.0  \n",
              "min          0.0           0.0  \n",
              "25%          0.0           0.0  \n",
              "50%          0.0           0.0  \n",
              "75%          0.0           0.0  \n",
              "max          0.0           0.0  "
            ],
            "text/html": [
              "\n",
              "  <div id=\"df-fdd54758-cc26-4049-83a8-46ee9ebb55b8\" class=\"colab-df-container\">\n",
              "    <div>\n",
              "<style scoped>\n",
              "    .dataframe tbody tr th:only-of-type {\n",
              "        vertical-align: middle;\n",
              "    }\n",
              "\n",
              "    .dataframe tbody tr th {\n",
              "        vertical-align: top;\n",
              "    }\n",
              "\n",
              "    .dataframe thead th {\n",
              "        text-align: right;\n",
              "    }\n",
              "</style>\n",
              "<table border=\"1\" class=\"dataframe\">\n",
              "  <thead>\n",
              "    <tr style=\"text-align: right;\">\n",
              "      <th></th>\n",
              "      <th>Open</th>\n",
              "      <th>High</th>\n",
              "      <th>Low</th>\n",
              "      <th>Close</th>\n",
              "      <th>Volume</th>\n",
              "      <th>Dividends</th>\n",
              "      <th>Stock Splits</th>\n",
              "    </tr>\n",
              "  </thead>\n",
              "  <tbody>\n",
              "    <tr>\n",
              "      <th>count</th>\n",
              "      <td>2515.000000</td>\n",
              "      <td>2515.000000</td>\n",
              "      <td>2515.000000</td>\n",
              "      <td>2515.000000</td>\n",
              "      <td>2515.000000</td>\n",
              "      <td>2515.0</td>\n",
              "      <td>2515.0</td>\n",
              "    </tr>\n",
              "    <tr>\n",
              "      <th>mean</th>\n",
              "      <td>3.115163</td>\n",
              "      <td>3.135520</td>\n",
              "      <td>3.093963</td>\n",
              "      <td>3.115966</td>\n",
              "      <td>1673.676740</td>\n",
              "      <td>0.0</td>\n",
              "      <td>0.0</td>\n",
              "    </tr>\n",
              "    <tr>\n",
              "      <th>std</th>\n",
              "      <td>0.697853</td>\n",
              "      <td>0.704051</td>\n",
              "      <td>0.691808</td>\n",
              "      <td>0.698644</td>\n",
              "      <td>6711.640825</td>\n",
              "      <td>0.0</td>\n",
              "      <td>0.0</td>\n",
              "    </tr>\n",
              "    <tr>\n",
              "      <th>min</th>\n",
              "      <td>1.936500</td>\n",
              "      <td>1.962500</td>\n",
              "      <td>1.936500</td>\n",
              "      <td>1.939500</td>\n",
              "      <td>0.000000</td>\n",
              "      <td>0.0</td>\n",
              "      <td>0.0</td>\n",
              "    </tr>\n",
              "    <tr>\n",
              "      <th>25%</th>\n",
              "      <td>2.622000</td>\n",
              "      <td>2.641250</td>\n",
              "      <td>2.603500</td>\n",
              "      <td>2.622250</td>\n",
              "      <td>330.000000</td>\n",
              "      <td>0.0</td>\n",
              "      <td>0.0</td>\n",
              "    </tr>\n",
              "    <tr>\n",
              "      <th>50%</th>\n",
              "      <td>2.970000</td>\n",
              "      <td>2.993000</td>\n",
              "      <td>2.953000</td>\n",
              "      <td>2.975500</td>\n",
              "      <td>475.000000</td>\n",
              "      <td>0.0</td>\n",
              "      <td>0.0</td>\n",
              "    </tr>\n",
              "    <tr>\n",
              "      <th>75%</th>\n",
              "      <td>3.620000</td>\n",
              "      <td>3.638500</td>\n",
              "      <td>3.605000</td>\n",
              "      <td>3.628000</td>\n",
              "      <td>710.500000</td>\n",
              "      <td>0.0</td>\n",
              "      <td>0.0</td>\n",
              "    </tr>\n",
              "    <tr>\n",
              "      <th>max</th>\n",
              "      <td>4.910000</td>\n",
              "      <td>5.010000</td>\n",
              "      <td>4.791000</td>\n",
              "      <td>4.929000</td>\n",
              "      <td>79408.000000</td>\n",
              "      <td>0.0</td>\n",
              "      <td>0.0</td>\n",
              "    </tr>\n",
              "  </tbody>\n",
              "</table>\n",
              "</div>\n",
              "    <div class=\"colab-df-buttons\">\n",
              "\n",
              "  <div class=\"colab-df-container\">\n",
              "    <button class=\"colab-df-convert\" onclick=\"convertToInteractive('df-fdd54758-cc26-4049-83a8-46ee9ebb55b8')\"\n",
              "            title=\"Convert this dataframe to an interactive table.\"\n",
              "            style=\"display:none;\">\n",
              "\n",
              "  <svg xmlns=\"http://www.w3.org/2000/svg\" height=\"24px\" viewBox=\"0 -960 960 960\">\n",
              "    <path d=\"M120-120v-720h720v720H120Zm60-500h600v-160H180v160Zm220 220h160v-160H400v160Zm0 220h160v-160H400v160ZM180-400h160v-160H180v160Zm440 0h160v-160H620v160ZM180-180h160v-160H180v160Zm440 0h160v-160H620v160Z\"/>\n",
              "  </svg>\n",
              "    </button>\n",
              "\n",
              "  <style>\n",
              "    .colab-df-container {\n",
              "      display:flex;\n",
              "      gap: 12px;\n",
              "    }\n",
              "\n",
              "    .colab-df-convert {\n",
              "      background-color: #E8F0FE;\n",
              "      border: none;\n",
              "      border-radius: 50%;\n",
              "      cursor: pointer;\n",
              "      display: none;\n",
              "      fill: #1967D2;\n",
              "      height: 32px;\n",
              "      padding: 0 0 0 0;\n",
              "      width: 32px;\n",
              "    }\n",
              "\n",
              "    .colab-df-convert:hover {\n",
              "      background-color: #E2EBFA;\n",
              "      box-shadow: 0px 1px 2px rgba(60, 64, 67, 0.3), 0px 1px 3px 1px rgba(60, 64, 67, 0.15);\n",
              "      fill: #174EA6;\n",
              "    }\n",
              "\n",
              "    .colab-df-buttons div {\n",
              "      margin-bottom: 4px;\n",
              "    }\n",
              "\n",
              "    [theme=dark] .colab-df-convert {\n",
              "      background-color: #3B4455;\n",
              "      fill: #D2E3FC;\n",
              "    }\n",
              "\n",
              "    [theme=dark] .colab-df-convert:hover {\n",
              "      background-color: #434B5C;\n",
              "      box-shadow: 0px 1px 3px 1px rgba(0, 0, 0, 0.15);\n",
              "      filter: drop-shadow(0px 1px 2px rgba(0, 0, 0, 0.3));\n",
              "      fill: #FFFFFF;\n",
              "    }\n",
              "  </style>\n",
              "\n",
              "    <script>\n",
              "      const buttonEl =\n",
              "        document.querySelector('#df-fdd54758-cc26-4049-83a8-46ee9ebb55b8 button.colab-df-convert');\n",
              "      buttonEl.style.display =\n",
              "        google.colab.kernel.accessAllowed ? 'block' : 'none';\n",
              "\n",
              "      async function convertToInteractive(key) {\n",
              "        const element = document.querySelector('#df-fdd54758-cc26-4049-83a8-46ee9ebb55b8');\n",
              "        const dataTable =\n",
              "          await google.colab.kernel.invokeFunction('convertToInteractive',\n",
              "                                                    [key], {});\n",
              "        if (!dataTable) return;\n",
              "\n",
              "        const docLinkHtml = 'Like what you see? Visit the ' +\n",
              "          '<a target=\"_blank\" href=https://colab.research.google.com/notebooks/data_table.ipynb>data table notebook</a>'\n",
              "          + ' to learn more about interactive tables.';\n",
              "        element.innerHTML = '';\n",
              "        dataTable['output_type'] = 'display_data';\n",
              "        await google.colab.output.renderOutput(dataTable, element);\n",
              "        const docLink = document.createElement('div');\n",
              "        docLink.innerHTML = docLinkHtml;\n",
              "        element.appendChild(docLink);\n",
              "      }\n",
              "    </script>\n",
              "  </div>\n",
              "\n",
              "\n",
              "<div id=\"df-723a1e48-0882-4dc2-877f-8c4521c68e3b\">\n",
              "  <button class=\"colab-df-quickchart\" onclick=\"quickchart('df-723a1e48-0882-4dc2-877f-8c4521c68e3b')\"\n",
              "            title=\"Suggest charts\"\n",
              "            style=\"display:none;\">\n",
              "\n",
              "<svg xmlns=\"http://www.w3.org/2000/svg\" height=\"24px\"viewBox=\"0 0 24 24\"\n",
              "     width=\"24px\">\n",
              "    <g>\n",
              "        <path d=\"M19 3H5c-1.1 0-2 .9-2 2v14c0 1.1.9 2 2 2h14c1.1 0 2-.9 2-2V5c0-1.1-.9-2-2-2zM9 17H7v-7h2v7zm4 0h-2V7h2v10zm4 0h-2v-4h2v4z\"/>\n",
              "    </g>\n",
              "</svg>\n",
              "  </button>\n",
              "\n",
              "<style>\n",
              "  .colab-df-quickchart {\n",
              "      --bg-color: #E8F0FE;\n",
              "      --fill-color: #1967D2;\n",
              "      --hover-bg-color: #E2EBFA;\n",
              "      --hover-fill-color: #174EA6;\n",
              "      --disabled-fill-color: #AAA;\n",
              "      --disabled-bg-color: #DDD;\n",
              "  }\n",
              "\n",
              "  [theme=dark] .colab-df-quickchart {\n",
              "      --bg-color: #3B4455;\n",
              "      --fill-color: #D2E3FC;\n",
              "      --hover-bg-color: #434B5C;\n",
              "      --hover-fill-color: #FFFFFF;\n",
              "      --disabled-bg-color: #3B4455;\n",
              "      --disabled-fill-color: #666;\n",
              "  }\n",
              "\n",
              "  .colab-df-quickchart {\n",
              "    background-color: var(--bg-color);\n",
              "    border: none;\n",
              "    border-radius: 50%;\n",
              "    cursor: pointer;\n",
              "    display: none;\n",
              "    fill: var(--fill-color);\n",
              "    height: 32px;\n",
              "    padding: 0;\n",
              "    width: 32px;\n",
              "  }\n",
              "\n",
              "  .colab-df-quickchart:hover {\n",
              "    background-color: var(--hover-bg-color);\n",
              "    box-shadow: 0 1px 2px rgba(60, 64, 67, 0.3), 0 1px 3px 1px rgba(60, 64, 67, 0.15);\n",
              "    fill: var(--button-hover-fill-color);\n",
              "  }\n",
              "\n",
              "  .colab-df-quickchart-complete:disabled,\n",
              "  .colab-df-quickchart-complete:disabled:hover {\n",
              "    background-color: var(--disabled-bg-color);\n",
              "    fill: var(--disabled-fill-color);\n",
              "    box-shadow: none;\n",
              "  }\n",
              "\n",
              "  .colab-df-spinner {\n",
              "    border: 2px solid var(--fill-color);\n",
              "    border-color: transparent;\n",
              "    border-bottom-color: var(--fill-color);\n",
              "    animation:\n",
              "      spin 1s steps(1) infinite;\n",
              "  }\n",
              "\n",
              "  @keyframes spin {\n",
              "    0% {\n",
              "      border-color: transparent;\n",
              "      border-bottom-color: var(--fill-color);\n",
              "      border-left-color: var(--fill-color);\n",
              "    }\n",
              "    20% {\n",
              "      border-color: transparent;\n",
              "      border-left-color: var(--fill-color);\n",
              "      border-top-color: var(--fill-color);\n",
              "    }\n",
              "    30% {\n",
              "      border-color: transparent;\n",
              "      border-left-color: var(--fill-color);\n",
              "      border-top-color: var(--fill-color);\n",
              "      border-right-color: var(--fill-color);\n",
              "    }\n",
              "    40% {\n",
              "      border-color: transparent;\n",
              "      border-right-color: var(--fill-color);\n",
              "      border-top-color: var(--fill-color);\n",
              "    }\n",
              "    60% {\n",
              "      border-color: transparent;\n",
              "      border-right-color: var(--fill-color);\n",
              "    }\n",
              "    80% {\n",
              "      border-color: transparent;\n",
              "      border-right-color: var(--fill-color);\n",
              "      border-bottom-color: var(--fill-color);\n",
              "    }\n",
              "    90% {\n",
              "      border-color: transparent;\n",
              "      border-bottom-color: var(--fill-color);\n",
              "    }\n",
              "  }\n",
              "</style>\n",
              "\n",
              "  <script>\n",
              "    async function quickchart(key) {\n",
              "      const quickchartButtonEl =\n",
              "        document.querySelector('#' + key + ' button');\n",
              "      quickchartButtonEl.disabled = true;  // To prevent multiple clicks.\n",
              "      quickchartButtonEl.classList.add('colab-df-spinner');\n",
              "      try {\n",
              "        const charts = await google.colab.kernel.invokeFunction(\n",
              "            'suggestCharts', [key], {});\n",
              "      } catch (error) {\n",
              "        console.error('Error during call to suggestCharts:', error);\n",
              "      }\n",
              "      quickchartButtonEl.classList.remove('colab-df-spinner');\n",
              "      quickchartButtonEl.classList.add('colab-df-quickchart-complete');\n",
              "    }\n",
              "    (() => {\n",
              "      let quickchartButtonEl =\n",
              "        document.querySelector('#df-723a1e48-0882-4dc2-877f-8c4521c68e3b button');\n",
              "      quickchartButtonEl.style.display =\n",
              "        google.colab.kernel.accessAllowed ? 'block' : 'none';\n",
              "    })();\n",
              "  </script>\n",
              "</div>\n",
              "    </div>\n",
              "  </div>\n"
            ]
          },
          "metadata": {},
          "execution_count": 4
        }
      ]
    },
    {
      "cell_type": "markdown",
      "source": [
        "## Data Investigation"
      ],
      "metadata": {
        "id": "DCa23Fm1Jfg5"
      }
    },
    {
      "cell_type": "code",
      "source": [
        "print(df['Dividends'].value_counts())\n",
        "print(df['Stock Splits'].value_counts())"
      ],
      "metadata": {
        "colab": {
          "base_uri": "https://localhost:8080/"
        },
        "id": "HopGaBVTJhzD",
        "outputId": "d9eeaa93-c3c5-4b47-abcb-555ba3908da4"
      },
      "execution_count": null,
      "outputs": [
        {
          "output_type": "stream",
          "name": "stdout",
          "text": [
            "0.0    2515\n",
            "Name: Dividends, dtype: int64\n",
            "0.0    2515\n",
            "Name: Stock Splits, dtype: int64\n"
          ]
        }
      ]
    },
    {
      "cell_type": "markdown",
      "source": [
        "as shown above, both columns only contains zeros so it's better to be dropped as they don't have any significant effect."
      ],
      "metadata": {
        "id": "mcb-zNRNJs5o"
      }
    },
    {
      "cell_type": "code",
      "source": [
        "df.drop(['Dividends','Stock Splits'],axis=1,inplace=True)"
      ],
      "metadata": {
        "id": "n6zDBueqJ8vI"
      },
      "execution_count": null,
      "outputs": []
    },
    {
      "cell_type": "markdown",
      "source": [
        "let's see the correlations between columns"
      ],
      "metadata": {
        "id": "IcriRZewKOWb"
      }
    },
    {
      "cell_type": "code",
      "source": [
        "sns.heatmap(df.corr())"
      ],
      "metadata": {
        "colab": {
          "base_uri": "https://localhost:8080/",
          "height": 453
        },
        "id": "Nv8T2dW3KNsj",
        "outputId": "e8e4af68-f22d-4dbc-862c-e3881fb93b12"
      },
      "execution_count": null,
      "outputs": [
        {
          "output_type": "execute_result",
          "data": {
            "text/plain": [
              "<Axes: >"
            ]
          },
          "metadata": {},
          "execution_count": 7
        },
        {
          "output_type": "display_data",
          "data": {
            "text/plain": [
              "<Figure size 640x480 with 2 Axes>"
            ],
            "image/png": "[encoded data removed]"
          },
          "metadata": {}
        }
      ]
    },
    {
      "cell_type": "markdown",
      "source": [
        "As shown in the above figure, Volume column doesn't have any correlation with any column. On the other hand, Open , High , Low and Close columns are highly correlated."
      ],
      "metadata": {
        "id": "02kgdMwYKdwy"
      }
    },
    {
      "cell_type": "markdown",
      "source": [
        "Now, Let's check their distributions."
      ],
      "metadata": {
        "id": "I2YdFatNK5ZY"
      }
    },
    {
      "cell_type": "code",
      "source": [
        "for col in df.columns:\n",
        "  sns.histplot(df[col])\n",
        "  plt.show()"
      ],
      "metadata": {
        "colab": {
          "base_uri": "https://localhost:8080/",
          "height": 1000
        },
        "id": "CbFdr3E1Kxs3",
        "outputId": "0e5c5641-95a4-4199-aaf5-30c9bbbb66e0"
      },
      "execution_count": null,
      "outputs": [
        {
          "output_type": "display_data",
          "data": {
            "text/plain": [
              "<Figure size 640x480 with 1 Axes>"
            ],
            "image/png": "[encoded data removed]"
          },
          "metadata": {}
        },
        {
          "output_type": "display_data",
          "data": {
            "text/plain": [
              "<Figure size 640x480 with 1 Axes>"
            ],
            "image/png": "[encoded data removed]"
          },
          "metadata": {}
        },
        {
          "output_type": "display_data",
          "data": {
            "text/plain": [
              "<Figure size 640x480 with 1 Axes>"
            ],
            "image/png": "[encoded data removed]"
          },
          "metadata": {}
        },
        {
          "output_type": "display_data",
          "data": {
            "text/plain": [
              "<Figure size 640x480 with 1 Axes>"
            ],
            "image/png": "[encoded data removed]"
          },
          "metadata": {}
        },
        {
          "output_type": "display_data",
          "data": {
            "text/plain": [
              "<Figure size 640x480 with 1 Axes>"
            ],
            "image/png": "[encoded data removed]"
          },
          "metadata": {}
        }
      ]
    },
    {
      "cell_type": "markdown",
      "source": [
        "Another problem with column volume that is contains large amount of outliers. So it's better to also drop this column."
      ],
      "metadata": {
        "id": "uLvuZgUnLRMS"
      }
    },
    {
      "cell_type": "markdown",
      "source": [
        "Checking null values"
      ],
      "metadata": {
        "id": "WN_UOaUaLl2y"
      }
    },
    {
      "cell_type": "code",
      "source": [
        "df.isna().sum()"
      ],
      "metadata": {
        "colab": {
          "base_uri": "https://localhost:8080/"
        },
        "id": "2r3ICGUqLn9R",
        "outputId": "0da0a4c1-4b5c-40cf-ed7b-9bb8dd22587c"
      },
      "execution_count": null,
      "outputs": [
        {
          "output_type": "execute_result",
          "data": {
            "text/plain": [
              "Open      0\n",
              "High      0\n",
              "Low       0\n",
              "Close     0\n",
              "Volume    0\n",
              "dtype: int64"
            ]
          },
          "metadata": {},
          "execution_count": 9
        }
      ]
    },
    {
      "cell_type": "markdown",
      "source": [
        "All looks good!"
      ],
      "metadata": {
        "id": "gixX1ba3LrPW"
      }
    },
    {
      "cell_type": "markdown",
      "source": [
        "We'll choose date , open and close columns to work with."
      ],
      "metadata": {
        "id": "D4urzN0-MApA"
      }
    },
    {
      "cell_type": "code",
      "source": [
        "df = df[['Open','Close']]\n",
        "df.head()"
      ],
      "metadata": {
        "colab": {
          "base_uri": "https://localhost:8080/",
          "height": 237
        },
        "id": "XR1KIGhWLuXG",
        "outputId": "41bc79a0-12cb-42bc-d800-b6c82b519ece"
      },
      "execution_count": null,
      "outputs": [
        {
          "output_type": "execute_result",
          "data": {
            "text/plain": [
              "                            Open  Close\n",
              "Date                                   \n",
              "2013-12-12 00:00:00-05:00  3.329  3.332\n",
              "2013-12-13 00:00:00-05:00  3.330  3.352\n",
              "2013-12-16 00:00:00-05:00  3.360  3.376\n",
              "2013-12-17 00:00:00-05:00  3.365  3.367\n",
              "2013-12-18 00:00:00-05:00  3.355  3.361"
            ],
            "text/html": [
              "\n",
              "  <div id=\"df-a4f64a99-a16e-4a06-9b7c-5a6f914ee1c1\" class=\"colab-df-container\">\n",
              "    <div>\n",
              "<style scoped>\n",
              "    .dataframe tbody tr th:only-of-type {\n",
              "        vertical-align: middle;\n",
              "    }\n",
              "\n",
              "    .dataframe tbody tr th {\n",
              "        vertical-align: top;\n",
              "    }\n",
              "\n",
              "    .dataframe thead th {\n",
              "        text-align: right;\n",
              "    }\n",
              "</style>\n",
              "<table border=\"1\" class=\"dataframe\">\n",
              "  <thead>\n",
              "    <tr style=\"text-align: right;\">\n",
              "      <th></th>\n",
              "      <th>Open</th>\n",
              "      <th>Close</th>\n",
              "    </tr>\n",
              "    <tr>\n",
              "      <th>Date</th>\n",
              "      <th></th>\n",
              "      <th></th>\n",
              "    </tr>\n",
              "  </thead>\n",
              "  <tbody>\n",
              "    <tr>\n",
              "      <th>2013-12-12 00:00:00-05:00</th>\n",
              "      <td>3.329</td>\n",
              "      <td>3.332</td>\n",
              "    </tr>\n",
              "    <tr>\n",
              "      <th>2013-12-13 00:00:00-05:00</th>\n",
              "      <td>3.330</td>\n",
              "      <td>3.352</td>\n",
              "    </tr>\n",
              "    <tr>\n",
              "      <th>2013-12-16 00:00:00-05:00</th>\n",
              "      <td>3.360</td>\n",
              "      <td>3.376</td>\n",
              "    </tr>\n",
              "    <tr>\n",
              "      <th>2013-12-17 00:00:00-05:00</th>\n",
              "      <td>3.365</td>\n",
              "      <td>3.367</td>\n",
              "    </tr>\n",
              "    <tr>\n",
              "      <th>2013-12-18 00:00:00-05:00</th>\n",
              "      <td>3.355</td>\n",
              "      <td>3.361</td>\n",
              "    </tr>\n",
              "  </tbody>\n",
              "</table>\n",
              "</div>\n",
              "    <div class=\"colab-df-buttons\">\n",
              "\n",
              "  <div class=\"colab-df-container\">\n",
              "    <button class=\"colab-df-convert\" onclick=\"convertToInteractive('df-a4f64a99-a16e-4a06-9b7c-5a6f914ee1c1')\"\n",
              "            title=\"Convert this dataframe to an interactive table.\"\n",
              "            style=\"display:none;\">\n",
              "\n",
              "  <svg xmlns=\"http://www.w3.org/2000/svg\" height=\"24px\" viewBox=\"0 -960 960 960\">\n",
              "    <path d=\"M120-120v-720h720v720H120Zm60-500h600v-160H180v160Zm220 220h160v-160H400v160Zm0 220h160v-160H400v160ZM180-400h160v-160H180v160Zm440 0h160v-160H620v160ZM180-180h160v-160H180v160Zm440 0h160v-160H620v160Z\"/>\n",
              "  </svg>\n",
              "    </button>\n",
              "\n",
              "  <style>\n",
              "    .colab-df-container {\n",
              "      display:flex;\n",
              "      gap: 12px;\n",
              "    }\n",
              "\n",
              "    .colab-df-convert {\n",
              "      background-color: #E8F0FE;\n",
              "      border: none;\n",
              "      border-radius: 50%;\n",
              "      cursor: pointer;\n",
              "      display: none;\n",
              "      fill: #1967D2;\n",
              "      height: 32px;\n",
              "      padding: 0 0 0 0;\n",
              "      width: 32px;\n",
              "    }\n",
              "\n",
              "    .colab-df-convert:hover {\n",
              "      background-color: #E2EBFA;\n",
              "      box-shadow: 0px 1px 2px rgba(60, 64, 67, 0.3), 0px 1px 3px 1px rgba(60, 64, 67, 0.15);\n",
              "      fill: #174EA6;\n",
              "    }\n",
              "\n",
              "    .colab-df-buttons div {\n",
              "      margin-bottom: 4px;\n",
              "    }\n",
              "\n",
              "    [theme=dark] .colab-df-convert {\n",
              "      background-color: #3B4455;\n",
              "      fill: #D2E3FC;\n",
              "    }\n",
              "\n",
              "    [theme=dark] .colab-df-convert:hover {\n",
              "      background-color: #434B5C;\n",
              "      box-shadow: 0px 1px 3px 1px rgba(0, 0, 0, 0.15);\n",
              "      filter: drop-shadow(0px 1px 2px rgba(0, 0, 0, 0.3));\n",
              "      fill: #FFFFFF;\n",
              "    }\n",
              "  </style>\n",
              "\n",
              "    <script>\n",
              "      const buttonEl =\n",
              "        document.querySelector('#df-a4f64a99-a16e-4a06-9b7c-5a6f914ee1c1 button.colab-df-convert');\n",
              "      buttonEl.style.display =\n",
              "        google.colab.kernel.accessAllowed ? 'block' : 'none';\n",
              "\n",
              "      async function convertToInteractive(key) {\n",
              "        const element = document.querySelector('#df-a4f64a99-a16e-4a06-9b7c-5a6f914ee1c1');\n",
              "        const dataTable =\n",
              "          await google.colab.kernel.invokeFunction('convertToInteractive',\n",
              "                                                    [key], {});\n",
              "        if (!dataTable) return;\n",
              "\n",
              "        const docLinkHtml = 'Like what you see? Visit the ' +\n",
              "          '<a target=\"_blank\" href=https://colab.research.google.com/notebooks/data_table.ipynb>data table notebook</a>'\n",
              "          + ' to learn more about interactive tables.';\n",
              "        element.innerHTML = '';\n",
              "        dataTable['output_type'] = 'display_data';\n",
              "        await google.colab.output.renderOutput(dataTable, element);\n",
              "        const docLink = document.createElement('div');\n",
              "        docLink.innerHTML = docLinkHtml;\n",
              "        element.appendChild(docLink);\n",
              "      }\n",
              "    </script>\n",
              "  </div>\n",
              "\n",
              "\n",
              "<div id=\"df-a72fc459-c7b5-4736-8716-3196957699a8\">\n",
              "  <button class=\"colab-df-quickchart\" onclick=\"quickchart('df-a72fc459-c7b5-4736-8716-3196957699a8')\"\n",
              "            title=\"Suggest charts\"\n",
              "            style=\"display:none;\">\n",
              "\n",
              "<svg xmlns=\"http://www.w3.org/2000/svg\" height=\"24px\"viewBox=\"0 0 24 24\"\n",
              "     width=\"24px\">\n",
              "    <g>\n",
              "        <path d=\"M19 3H5c-1.1 0-2 .9-2 2v14c0 1.1.9 2 2 2h14c1.1 0 2-.9 2-2V5c0-1.1-.9-2-2-2zM9 17H7v-7h2v7zm4 0h-2V7h2v10zm4 0h-2v-4h2v4z\"/>\n",
              "    </g>\n",
              "</svg>\n",
              "  </button>\n",
              "\n",
              "<style>\n",
              "  .colab-df-quickchart {\n",
              "      --bg-color: #E8F0FE;\n",
              "      --fill-color: #1967D2;\n",
              "      --hover-bg-color: #E2EBFA;\n",
              "      --hover-fill-color: #174EA6;\n",
              "      --disabled-fill-color: #AAA;\n",
              "      --disabled-bg-color: #DDD;\n",
              "  }\n",
              "\n",
              "  [theme=dark] .colab-df-quickchart {\n",
              "      --bg-color: #3B4455;\n",
              "      --fill-color: #D2E3FC;\n",
              "      --hover-bg-color: #434B5C;\n",
              "      --hover-fill-color: #FFFFFF;\n",
              "      --disabled-bg-color: #3B4455;\n",
              "      --disabled-fill-color: #666;\n",
              "  }\n",
              "\n",
              "  .colab-df-quickchart {\n",
              "    background-color: var(--bg-color);\n",
              "    border: none;\n",
              "    border-radius: 50%;\n",
              "    cursor: pointer;\n",
              "    display: none;\n",
              "    fill: var(--fill-color);\n",
              "    height: 32px;\n",
              "    padding: 0;\n",
              "    width: 32px;\n",
              "  }\n",
              "\n",
              "  .colab-df-quickchart:hover {\n",
              "    background-color: var(--hover-bg-color);\n",
              "    box-shadow: 0 1px 2px rgba(60, 64, 67, 0.3), 0 1px 3px 1px rgba(60, 64, 67, 0.15);\n",
              "    fill: var(--button-hover-fill-color);\n",
              "  }\n",
              "\n",
              "  .colab-df-quickchart-complete:disabled,\n",
              "  .colab-df-quickchart-complete:disabled:hover {\n",
              "    background-color: var(--disabled-bg-color);\n",
              "    fill: var(--disabled-fill-color);\n",
              "    box-shadow: none;\n",
              "  }\n",
              "\n",
              "  .colab-df-spinner {\n",
              "    border: 2px solid var(--fill-color);\n",
              "    border-color: transparent;\n",
              "    border-bottom-color: var(--fill-color);\n",
              "    animation:\n",
              "      spin 1s steps(1) infinite;\n",
              "  }\n",
              "\n",
              "  @keyframes spin {\n",
              "    0% {\n",
              "      border-color: transparent;\n",
              "      border-bottom-color: var(--fill-color);\n",
              "      border-left-color: var(--fill-color);\n",
              "    }\n",
              "    20% {\n",
              "      border-color: transparent;\n",
              "      border-left-color: var(--fill-color);\n",
              "      border-top-color: var(--fill-color);\n",
              "    }\n",
              "    30% {\n",
              "      border-color: transparent;\n",
              "      border-left-color: var(--fill-color);\n",
              "      border-top-color: var(--fill-color);\n",
              "      border-right-color: var(--fill-color);\n",
              "    }\n",
              "    40% {\n",
              "      border-color: transparent;\n",
              "      border-right-color: var(--fill-color);\n",
              "      border-top-color: var(--fill-color);\n",
              "    }\n",
              "    60% {\n",
              "      border-color: transparent;\n",
              "      border-right-color: var(--fill-color);\n",
              "    }\n",
              "    80% {\n",
              "      border-color: transparent;\n",
              "      border-right-color: var(--fill-color);\n",
              "      border-bottom-color: var(--fill-color);\n",
              "    }\n",
              "    90% {\n",
              "      border-color: transparent;\n",
              "      border-bottom-color: var(--fill-color);\n",
              "    }\n",
              "  }\n",
              "</style>\n",
              "\n",
              "  <script>\n",
              "    async function quickchart(key) {\n",
              "      const quickchartButtonEl =\n",
              "        document.querySelector('#' + key + ' button');\n",
              "      quickchartButtonEl.disabled = true;  // To prevent multiple clicks.\n",
              "      quickchartButtonEl.classList.add('colab-df-spinner');\n",
              "      try {\n",
              "        const charts = await google.colab.kernel.invokeFunction(\n",
              "            'suggestCharts', [key], {});\n",
              "      } catch (error) {\n",
              "        console.error('Error during call to suggestCharts:', error);\n",
              "      }\n",
              "      quickchartButtonEl.classList.remove('colab-df-spinner');\n",
              "      quickchartButtonEl.classList.add('colab-df-quickchart-complete');\n",
              "    }\n",
              "    (() => {\n",
              "      let quickchartButtonEl =\n",
              "        document.querySelector('#df-a72fc459-c7b5-4736-8716-3196957699a8 button');\n",
              "      quickchartButtonEl.style.display =\n",
              "        google.colab.kernel.accessAllowed ? 'block' : 'none';\n",
              "    })();\n",
              "  </script>\n",
              "</div>\n",
              "    </div>\n",
              "  </div>\n"
            ]
          },
          "metadata": {},
          "execution_count": 10
        }
      ]
    },
    {
      "cell_type": "code",
      "source": [
        "# df.index = df.index.strftime('%Y-%m-%d')"
      ],
      "metadata": {
        "id": "kva_afV5BnFw"
      },
      "execution_count": null,
      "outputs": []
    },
    {
      "cell_type": "code",
      "source": [
        "dates =pd.DataFrame(df.index)"
      ],
      "metadata": {
        "id": "BatswS3jNF2c"
      },
      "execution_count": null,
      "outputs": []
    },
    {
      "cell_type": "code",
      "source": [
        "dates"
      ],
      "metadata": {
        "colab": {
          "base_uri": "https://localhost:8080/",
          "height": 423
        },
        "id": "sQxiKtt_DMA3",
        "outputId": "7aa37ccd-f80c-4a14-d413-771663fec305"
      },
      "execution_count": null,
      "outputs": [
        {
          "output_type": "execute_result",
          "data": {
            "text/plain": [
              "                          Date\n",
              "0    2013-12-12 00:00:00-05:00\n",
              "1    2013-12-13 00:00:00-05:00\n",
              "2    2013-12-16 00:00:00-05:00\n",
              "3    2013-12-17 00:00:00-05:00\n",
              "4    2013-12-18 00:00:00-05:00\n",
              "...                        ...\n",
              "2510 2023-12-06 00:00:00-05:00\n",
              "2511 2023-12-07 00:00:00-05:00\n",
              "2512 2023-12-08 00:00:00-05:00\n",
              "2513 2023-12-11 00:00:00-05:00\n",
              "2514 2023-12-12 00:00:00-05:00\n",
              "\n",
              "[2515 rows x 1 columns]"
            ],
            "text/html": [
              "\n",
              "  <div id=\"df-5e2c2097-2d2a-4b48-ba2f-41117cee821f\" class=\"colab-df-container\">\n",
              "    <div>\n",
              "<style scoped>\n",
              "    .dataframe tbody tr th:only-of-type {\n",
              "        vertical-align: middle;\n",
              "    }\n",
              "\n",
              "    .dataframe tbody tr th {\n",
              "        vertical-align: top;\n",
              "    }\n",
              "\n",
              "    .dataframe thead th {\n",
              "        text-align: right;\n",
              "    }\n",
              "</style>\n",
              "<table border=\"1\" class=\"dataframe\">\n",
              "  <thead>\n",
              "    <tr style=\"text-align: right;\">\n",
              "      <th></th>\n",
              "      <th>Date</th>\n",
              "    </tr>\n",
              "  </thead>\n",
              "  <tbody>\n",
              "    <tr>\n",
              "      <th>0</th>\n",
              "      <td>2013-12-12 00:00:00-05:00</td>\n",
              "    </tr>\n",
              "    <tr>\n",
              "      <th>1</th>\n",
              "      <td>2013-12-13 00:00:00-05:00</td>\n",
              "    </tr>\n",
              "    <tr>\n",
              "      <th>2</th>\n",
              "      <td>2013-12-16 00:00:00-05:00</td>\n",
              "    </tr>\n",
              "    <tr>\n",
              "      <th>3</th>\n",
              "      <td>2013-12-17 00:00:00-05:00</td>\n",
              "    </tr>\n",
              "    <tr>\n",
              "      <th>4</th>\n",
              "      <td>2013-12-18 00:00:00-05:00</td>\n",
              "    </tr>\n",
              "    <tr>\n",
              "      <th>...</th>\n",
              "      <td>...</td>\n",
              "    </tr>\n",
              "    <tr>\n",
              "      <th>2510</th>\n",
              "      <td>2023-12-06 00:00:00-05:00</td>\n",
              "    </tr>\n",
              "    <tr>\n",
              "      <th>2511</th>\n",
              "      <td>2023-12-07 00:00:00-05:00</td>\n",
              "    </tr>\n",
              "    <tr>\n",
              "      <th>2512</th>\n",
              "      <td>2023-12-08 00:00:00-05:00</td>\n",
              "    </tr>\n",
              "    <tr>\n",
              "      <th>2513</th>\n",
              "      <td>2023-12-11 00:00:00-05:00</td>\n",
              "    </tr>\n",
              "    <tr>\n",
              "      <th>2514</th>\n",
              "      <td>2023-12-12 00:00:00-05:00</td>\n",
              "    </tr>\n",
              "  </tbody>\n",
              "</table>\n",
              "<p>2515 rows × 1 columns</p>\n",
              "</div>\n",
              "    <div class=\"colab-df-buttons\">\n",
              "\n",
              "  <div class=\"colab-df-container\">\n",
              "    <button class=\"colab-df-convert\" onclick=\"convertToInteractive('df-5e2c2097-2d2a-4b48-ba2f-41117cee821f')\"\n",
              "            title=\"Convert this dataframe to an interactive table.\"\n",
              "            style=\"display:none;\">\n",
              "\n",
              "  <svg xmlns=\"http://www.w3.org/2000/svg\" height=\"24px\" viewBox=\"0 -960 960 960\">\n",
              "    <path d=\"M120-120v-720h720v720H120Zm60-500h600v-160H180v160Zm220 220h160v-160H400v160Zm0 220h160v-160H400v160ZM180-400h160v-160H180v160Zm440 0h160v-160H620v160ZM180-180h160v-160H180v160Zm440 0h160v-160H620v160Z\"/>\n",
              "  </svg>\n",
              "    </button>\n",
              "\n",
              "  <style>\n",
              "    .colab-df-container {\n",
              "      display:flex;\n",
              "      gap: 12px;\n",
              "    }\n",
              "\n",
              "    .colab-df-convert {\n",
              "      background-color: #E8F0FE;\n",
              "      border: none;\n",
              "      border-radius: 50%;\n",
              "      cursor: pointer;\n",
              "      display: none;\n",
              "      fill: #1967D2;\n",
              "      height: 32px;\n",
              "      padding: 0 0 0 0;\n",
              "      width: 32px;\n",
              "    }\n",
              "\n",
              "    .colab-df-convert:hover {\n",
              "      background-color: #E2EBFA;\n",
              "      box-shadow: 0px 1px 2px rgba(60, 64, 67, 0.3), 0px 1px 3px 1px rgba(60, 64, 67, 0.15);\n",
              "      fill: #174EA6;\n",
              "    }\n",
              "\n",
              "    .colab-df-buttons div {\n",
              "      margin-bottom: 4px;\n",
              "    }\n",
              "\n",
              "    [theme=dark] .colab-df-convert {\n",
              "      background-color: #3B4455;\n",
              "      fill: #D2E3FC;\n",
              "    }\n",
              "\n",
              "    [theme=dark] .colab-df-convert:hover {\n",
              "      background-color: #434B5C;\n",
              "      box-shadow: 0px 1px 3px 1px rgba(0, 0, 0, 0.15);\n",
              "      filter: drop-shadow(0px 1px 2px rgba(0, 0, 0, 0.3));\n",
              "      fill: #FFFFFF;\n",
              "    }\n",
              "  </style>\n",
              "\n",
              "    <script>\n",
              "      const buttonEl =\n",
              "        document.querySelector('#df-5e2c2097-2d2a-4b48-ba2f-41117cee821f button.colab-df-convert');\n",
              "      buttonEl.style.display =\n",
              "        google.colab.kernel.accessAllowed ? 'block' : 'none';\n",
              "\n",
              "      async function convertToInteractive(key) {\n",
              "        const element = document.querySelector('#df-5e2c2097-2d2a-4b48-ba2f-41117cee821f');\n",
              "        const dataTable =\n",
              "          await google.colab.kernel.invokeFunction('convertToInteractive',\n",
              "                                                    [key], {});\n",
              "        if (!dataTable) return;\n",
              "\n",
              "        const docLinkHtml = 'Like what you see? Visit the ' +\n",
              "          '<a target=\"_blank\" href=https://colab.research.google.com/notebooks/data_table.ipynb>data table notebook</a>'\n",
              "          + ' to learn more about interactive tables.';\n",
              "        element.innerHTML = '';\n",
              "        dataTable['output_type'] = 'display_data';\n",
              "        await google.colab.output.renderOutput(dataTable, element);\n",
              "        const docLink = document.createElement('div');\n",
              "        docLink.innerHTML = docLinkHtml;\n",
              "        element.appendChild(docLink);\n",
              "      }\n",
              "    </script>\n",
              "  </div>\n",
              "\n",
              "\n",
              "<div id=\"df-d2d73e02-de6e-4f9e-9a19-600e3eb1228a\">\n",
              "  <button class=\"colab-df-quickchart\" onclick=\"quickchart('df-d2d73e02-de6e-4f9e-9a19-600e3eb1228a')\"\n",
              "            title=\"Suggest charts\"\n",
              "            style=\"display:none;\">\n",
              "\n",
              "<svg xmlns=\"http://www.w3.org/2000/svg\" height=\"24px\"viewBox=\"0 0 24 24\"\n",
              "     width=\"24px\">\n",
              "    <g>\n",
              "        <path d=\"M19 3H5c-1.1 0-2 .9-2 2v14c0 1.1.9 2 2 2h14c1.1 0 2-.9 2-2V5c0-1.1-.9-2-2-2zM9 17H7v-7h2v7zm4 0h-2V7h2v10zm4 0h-2v-4h2v4z\"/>\n",
              "    </g>\n",
              "</svg>\n",
              "  </button>\n",
              "\n",
              "<style>\n",
              "  .colab-df-quickchart {\n",
              "      --bg-color: #E8F0FE;\n",
              "      --fill-color: #1967D2;\n",
              "      --hover-bg-color: #E2EBFA;\n",
              "      --hover-fill-color: #174EA6;\n",
              "      --disabled-fill-color: #AAA;\n",
              "      --disabled-bg-color: #DDD;\n",
              "  }\n",
              "\n",
              "  [theme=dark] .colab-df-quickchart {\n",
              "      --bg-color: #3B4455;\n",
              "      --fill-color: #D2E3FC;\n",
              "      --hover-bg-color: #434B5C;\n",
              "      --hover-fill-color: #FFFFFF;\n",
              "      --disabled-bg-color: #3B4455;\n",
              "      --disabled-fill-color: #666;\n",
              "  }\n",
              "\n",
              "  .colab-df-quickchart {\n",
              "    background-color: var(--bg-color);\n",
              "    border: none;\n",
              "    border-radius: 50%;\n",
              "    cursor: pointer;\n",
              "    display: none;\n",
              "    fill: var(--fill-color);\n",
              "    height: 32px;\n",
              "    padding: 0;\n",
              "    width: 32px;\n",
              "  }\n",
              "\n",
              "  .colab-df-quickchart:hover {\n",
              "    background-color: var(--hover-bg-color);\n",
              "    box-shadow: 0 1px 2px rgba(60, 64, 67, 0.3), 0 1px 3px 1px rgba(60, 64, 67, 0.15);\n",
              "    fill: var(--button-hover-fill-color);\n",
              "  }\n",
              "\n",
              "  .colab-df-quickchart-complete:disabled,\n",
              "  .colab-df-quickchart-complete:disabled:hover {\n",
              "    background-color: var(--disabled-bg-color);\n",
              "    fill: var(--disabled-fill-color);\n",
              "    box-shadow: none;\n",
              "  }\n",
              "\n",
              "  .colab-df-spinner {\n",
              "    border: 2px solid var(--fill-color);\n",
              "    border-color: transparent;\n",
              "    border-bottom-color: var(--fill-color);\n",
              "    animation:\n",
              "      spin 1s steps(1) infinite;\n",
              "  }\n",
              "\n",
              "  @keyframes spin {\n",
              "    0% {\n",
              "      border-color: transparent;\n",
              "      border-bottom-color: var(--fill-color);\n",
              "      border-left-color: var(--fill-color);\n",
              "    }\n",
              "    20% {\n",
              "      border-color: transparent;\n",
              "      border-left-color: var(--fill-color);\n",
              "      border-top-color: var(--fill-color);\n",
              "    }\n",
              "    30% {\n",
              "      border-color: transparent;\n",
              "      border-left-color: var(--fill-color);\n",
              "      border-top-color: var(--fill-color);\n",
              "      border-right-color: var(--fill-color);\n",
              "    }\n",
              "    40% {\n",
              "      border-color: transparent;\n",
              "      border-right-color: var(--fill-color);\n",
              "      border-top-color: var(--fill-color);\n",
              "    }\n",
              "    60% {\n",
              "      border-color: transparent;\n",
              "      border-right-color: var(--fill-color);\n",
              "    }\n",
              "    80% {\n",
              "      border-color: transparent;\n",
              "      border-right-color: var(--fill-color);\n",
              "      border-bottom-color: var(--fill-color);\n",
              "    }\n",
              "    90% {\n",
              "      border-color: transparent;\n",
              "      border-bottom-color: var(--fill-color);\n",
              "    }\n",
              "  }\n",
              "</style>\n",
              "\n",
              "  <script>\n",
              "    async function quickchart(key) {\n",
              "      const quickchartButtonEl =\n",
              "        document.querySelector('#' + key + ' button');\n",
              "      quickchartButtonEl.disabled = true;  // To prevent multiple clicks.\n",
              "      quickchartButtonEl.classList.add('colab-df-spinner');\n",
              "      try {\n",
              "        const charts = await google.colab.kernel.invokeFunction(\n",
              "            'suggestCharts', [key], {});\n",
              "      } catch (error) {\n",
              "        console.error('Error during call to suggestCharts:', error);\n",
              "      }\n",
              "      quickchartButtonEl.classList.remove('colab-df-spinner');\n",
              "      quickchartButtonEl.classList.add('colab-df-quickchart-complete');\n",
              "    }\n",
              "    (() => {\n",
              "      let quickchartButtonEl =\n",
              "        document.querySelector('#df-d2d73e02-de6e-4f9e-9a19-600e3eb1228a button');\n",
              "      quickchartButtonEl.style.display =\n",
              "        google.colab.kernel.accessAllowed ? 'block' : 'none';\n",
              "    })();\n",
              "  </script>\n",
              "</div>\n",
              "    </div>\n",
              "  </div>\n"
            ]
          },
          "metadata": {},
          "execution_count": 13
        }
      ]
    },
    {
      "cell_type": "code",
      "source": [
        "df['Close']"
      ],
      "metadata": {
        "colab": {
          "base_uri": "https://localhost:8080/"
        },
        "id": "kGvF3-YICmrf",
        "outputId": "b88679db-72d6-4de4-9091-dd381d9f596e"
      },
      "execution_count": null,
      "outputs": [
        {
          "output_type": "execute_result",
          "data": {
            "text/plain": [
              "Date\n",
              "2013-12-12 00:00:00-05:00    3.3320\n",
              "2013-12-13 00:00:00-05:00    3.3520\n",
              "2013-12-16 00:00:00-05:00    3.3760\n",
              "2013-12-17 00:00:00-05:00    3.3670\n",
              "2013-12-18 00:00:00-05:00    3.3610\n",
              "                              ...  \n",
              "2023-12-06 00:00:00-05:00    3.7165\n",
              "2023-12-07 00:00:00-05:00    3.7845\n",
              "2023-12-08 00:00:00-05:00    3.8200\n",
              "2023-12-11 00:00:00-05:00    3.7800\n",
              "2023-12-12 00:00:00-05:00    3.7965\n",
              "Name: Close, Length: 2515, dtype: float64"
            ]
          },
          "metadata": {},
          "execution_count": 14
        }
      ]
    },
    {
      "cell_type": "code",
      "source": [
        "df.head()"
      ],
      "metadata": {
        "colab": {
          "base_uri": "https://localhost:8080/",
          "height": 237
        },
        "id": "IofiuaTaCd72",
        "outputId": "45684a23-bf01-45ef-d5ba-cf0f2af16ddb"
      },
      "execution_count": null,
      "outputs": [
        {
          "output_type": "execute_result",
          "data": {
            "text/plain": [
              "                            Open  Close\n",
              "Date                                   \n",
              "2013-12-12 00:00:00-05:00  3.329  3.332\n",
              "2013-12-13 00:00:00-05:00  3.330  3.352\n",
              "2013-12-16 00:00:00-05:00  3.360  3.376\n",
              "2013-12-17 00:00:00-05:00  3.365  3.367\n",
              "2013-12-18 00:00:00-05:00  3.355  3.361"
            ],
            "text/html": [
              "\n",
              "  <div id=\"df-6d39bb01-b438-4dfb-8685-cc5df212290f\" class=\"colab-df-container\">\n",
              "    <div>\n",
              "<style scoped>\n",
              "    .dataframe tbody tr th:only-of-type {\n",
              "        vertical-align: middle;\n",
              "    }\n",
              "\n",
              "    .dataframe tbody tr th {\n",
              "        vertical-align: top;\n",
              "    }\n",
              "\n",
              "    .dataframe thead th {\n",
              "        text-align: right;\n",
              "    }\n",
              "</style>\n",
              "<table border=\"1\" class=\"dataframe\">\n",
              "  <thead>\n",
              "    <tr style=\"text-align: right;\">\n",
              "      <th></th>\n",
              "      <th>Open</th>\n",
              "      <th>Close</th>\n",
              "    </tr>\n",
              "    <tr>\n",
              "      <th>Date</th>\n",
              "      <th></th>\n",
              "      <th></th>\n",
              "    </tr>\n",
              "  </thead>\n",
              "  <tbody>\n",
              "    <tr>\n",
              "      <th>2013-12-12 00:00:00-05:00</th>\n",
              "      <td>3.329</td>\n",
              "      <td>3.332</td>\n",
              "    </tr>\n",
              "    <tr>\n",
              "      <th>2013-12-13 00:00:00-05:00</th>\n",
              "      <td>3.330</td>\n",
              "      <td>3.352</td>\n",
              "    </tr>\n",
              "    <tr>\n",
              "      <th>2013-12-16 00:00:00-05:00</th>\n",
              "      <td>3.360</td>\n",
              "      <td>3.376</td>\n",
              "    </tr>\n",
              "    <tr>\n",
              "      <th>2013-12-17 00:00:00-05:00</th>\n",
              "      <td>3.365</td>\n",
              "      <td>3.367</td>\n",
              "    </tr>\n",
              "    <tr>\n",
              "      <th>2013-12-18 00:00:00-05:00</th>\n",
              "      <td>3.355</td>\n",
              "      <td>3.361</td>\n",
              "    </tr>\n",
              "  </tbody>\n",
              "</table>\n",
              "</div>\n",
              "    <div class=\"colab-df-buttons\">\n",
              "\n",
              "  <div class=\"colab-df-container\">\n",
              "    <button class=\"colab-df-convert\" onclick=\"convertToInteractive('df-6d39bb01-b438-4dfb-8685-cc5df212290f')\"\n",
              "            title=\"Convert this dataframe to an interactive table.\"\n",
              "            style=\"display:none;\">\n",
              "\n",
              "  <svg xmlns=\"http://www.w3.org/2000/svg\" height=\"24px\" viewBox=\"0 -960 960 960\">\n",
              "    <path d=\"M120-120v-720h720v720H120Zm60-500h600v-160H180v160Zm220 220h160v-160H400v160Zm0 220h160v-160H400v160ZM180-400h160v-160H180v160Zm440 0h160v-160H620v160ZM180-180h160v-160H180v160Zm440 0h160v-160H620v160Z\"/>\n",
              "  </svg>\n",
              "    </button>\n",
              "\n",
              "  <style>\n",
              "    .colab-df-container {\n",
              "      display:flex;\n",
              "      gap: 12px;\n",
              "    }\n",
              "\n",
              "    .colab-df-convert {\n",
              "      background-color: #E8F0FE;\n",
              "      border: none;\n",
              "      border-radius: 50%;\n",
              "      cursor: pointer;\n",
              "      display: none;\n",
              "      fill: #1967D2;\n",
              "      height: 32px;\n",
              "      padding: 0 0 0 0;\n",
              "      width: 32px;\n",
              "    }\n",
              "\n",
              "    .colab-df-convert:hover {\n",
              "      background-color: #E2EBFA;\n",
              "      box-shadow: 0px 1px 2px rgba(60, 64, 67, 0.3), 0px 1px 3px 1px rgba(60, 64, 67, 0.15);\n",
              "      fill: #174EA6;\n",
              "    }\n",
              "\n",
              "    .colab-df-buttons div {\n",
              "      margin-bottom: 4px;\n",
              "    }\n",
              "\n",
              "    [theme=dark] .colab-df-convert {\n",
              "      background-color: #3B4455;\n",
              "      fill: #D2E3FC;\n",
              "    }\n",
              "\n",
              "    [theme=dark] .colab-df-convert:hover {\n",
              "      background-color: #434B5C;\n",
              "      box-shadow: 0px 1px 3px 1px rgba(0, 0, 0, 0.15);\n",
              "      filter: drop-shadow(0px 1px 2px rgba(0, 0, 0, 0.3));\n",
              "      fill: #FFFFFF;\n",
              "    }\n",
              "  </style>\n",
              "\n",
              "    <script>\n",
              "      const buttonEl =\n",
              "        document.querySelector('#df-6d39bb01-b438-4dfb-8685-cc5df212290f button.colab-df-convert');\n",
              "      buttonEl.style.display =\n",
              "        google.colab.kernel.accessAllowed ? 'block' : 'none';\n",
              "\n",
              "      async function convertToInteractive(key) {\n",
              "        const element = document.querySelector('#df-6d39bb01-b438-4dfb-8685-cc5df212290f');\n",
              "        const dataTable =\n",
              "          await google.colab.kernel.invokeFunction('convertToInteractive',\n",
              "                                                    [key], {});\n",
              "        if (!dataTable) return;\n",
              "\n",
              "        const docLinkHtml = 'Like what you see? Visit the ' +\n",
              "          '<a target=\"_blank\" href=https://colab.research.google.com/notebooks/data_table.ipynb>data table notebook</a>'\n",
              "          + ' to learn more about interactive tables.';\n",
              "        element.innerHTML = '';\n",
              "        dataTable['output_type'] = 'display_data';\n",
              "        await google.colab.output.renderOutput(dataTable, element);\n",
              "        const docLink = document.createElement('div');\n",
              "        docLink.innerHTML = docLinkHtml;\n",
              "        element.appendChild(docLink);\n",
              "      }\n",
              "    </script>\n",
              "  </div>\n",
              "\n",
              "\n",
              "<div id=\"df-c49c1fb5-4637-4ffe-8cda-207a3aff0d46\">\n",
              "  <button class=\"colab-df-quickchart\" onclick=\"quickchart('df-c49c1fb5-4637-4ffe-8cda-207a3aff0d46')\"\n",
              "            title=\"Suggest charts\"\n",
              "            style=\"display:none;\">\n",
              "\n",
              "<svg xmlns=\"http://www.w3.org/2000/svg\" height=\"24px\"viewBox=\"0 0 24 24\"\n",
              "     width=\"24px\">\n",
              "    <g>\n",
              "        <path d=\"M19 3H5c-1.1 0-2 .9-2 2v14c0 1.1.9 2 2 2h14c1.1 0 2-.9 2-2V5c0-1.1-.9-2-2-2zM9 17H7v-7h2v7zm4 0h-2V7h2v10zm4 0h-2v-4h2v4z\"/>\n",
              "    </g>\n",
              "</svg>\n",
              "  </button>\n",
              "\n",
              "<style>\n",
              "  .colab-df-quickchart {\n",
              "      --bg-color: #E8F0FE;\n",
              "      --fill-color: #1967D2;\n",
              "      --hover-bg-color: #E2EBFA;\n",
              "      --hover-fill-color: #174EA6;\n",
              "      --disabled-fill-color: #AAA;\n",
              "      --disabled-bg-color: #DDD;\n",
              "  }\n",
              "\n",
              "  [theme=dark] .colab-df-quickchart {\n",
              "      --bg-color: #3B4455;\n",
              "      --fill-color: #D2E3FC;\n",
              "      --hover-bg-color: #434B5C;\n",
              "      --hover-fill-color: #FFFFFF;\n",
              "      --disabled-bg-color: #3B4455;\n",
              "      --disabled-fill-color: #666;\n",
              "  }\n",
              "\n",
              "  .colab-df-quickchart {\n",
              "    background-color: var(--bg-color);\n",
              "    border: none;\n",
              "    border-radius: 50%;\n",
              "    cursor: pointer;\n",
              "    display: none;\n",
              "    fill: var(--fill-color);\n",
              "    height: 32px;\n",
              "    padding: 0;\n",
              "    width: 32px;\n",
              "  }\n",
              "\n",
              "  .colab-df-quickchart:hover {\n",
              "    background-color: var(--hover-bg-color);\n",
              "    box-shadow: 0 1px 2px rgba(60, 64, 67, 0.3), 0 1px 3px 1px rgba(60, 64, 67, 0.15);\n",
              "    fill: var(--button-hover-fill-color);\n",
              "  }\n",
              "\n",
              "  .colab-df-quickchart-complete:disabled,\n",
              "  .colab-df-quickchart-complete:disabled:hover {\n",
              "    background-color: var(--disabled-bg-color);\n",
              "    fill: var(--disabled-fill-color);\n",
              "    box-shadow: none;\n",
              "  }\n",
              "\n",
              "  .colab-df-spinner {\n",
              "    border: 2px solid var(--fill-color);\n",
              "    border-color: transparent;\n",
              "    border-bottom-color: var(--fill-color);\n",
              "    animation:\n",
              "      spin 1s steps(1) infinite;\n",
              "  }\n",
              "\n",
              "  @keyframes spin {\n",
              "    0% {\n",
              "      border-color: transparent;\n",
              "      border-bottom-color: var(--fill-color);\n",
              "      border-left-color: var(--fill-color);\n",
              "    }\n",
              "    20% {\n",
              "      border-color: transparent;\n",
              "      border-left-color: var(--fill-color);\n",
              "      border-top-color: var(--fill-color);\n",
              "    }\n",
              "    30% {\n",
              "      border-color: transparent;\n",
              "      border-left-color: var(--fill-color);\n",
              "      border-top-color: var(--fill-color);\n",
              "      border-right-color: var(--fill-color);\n",
              "    }\n",
              "    40% {\n",
              "      border-color: transparent;\n",
              "      border-right-color: var(--fill-color);\n",
              "      border-top-color: var(--fill-color);\n",
              "    }\n",
              "    60% {\n",
              "      border-color: transparent;\n",
              "      border-right-color: var(--fill-color);\n",
              "    }\n",
              "    80% {\n",
              "      border-color: transparent;\n",
              "      border-right-color: var(--fill-color);\n",
              "      border-bottom-color: var(--fill-color);\n",
              "    }\n",
              "    90% {\n",
              "      border-color: transparent;\n",
              "      border-bottom-color: var(--fill-color);\n",
              "    }\n",
              "  }\n",
              "</style>\n",
              "\n",
              "  <script>\n",
              "    async function quickchart(key) {\n",
              "      const quickchartButtonEl =\n",
              "        document.querySelector('#' + key + ' button');\n",
              "      quickchartButtonEl.disabled = true;  // To prevent multiple clicks.\n",
              "      quickchartButtonEl.classList.add('colab-df-spinner');\n",
              "      try {\n",
              "        const charts = await google.colab.kernel.invokeFunction(\n",
              "            'suggestCharts', [key], {});\n",
              "      } catch (error) {\n",
              "        console.error('Error during call to suggestCharts:', error);\n",
              "      }\n",
              "      quickchartButtonEl.classList.remove('colab-df-spinner');\n",
              "      quickchartButtonEl.classList.add('colab-df-quickchart-complete');\n",
              "    }\n",
              "    (() => {\n",
              "      let quickchartButtonEl =\n",
              "        document.querySelector('#df-c49c1fb5-4637-4ffe-8cda-207a3aff0d46 button');\n",
              "      quickchartButtonEl.style.display =\n",
              "        google.colab.kernel.accessAllowed ? 'block' : 'none';\n",
              "    })();\n",
              "  </script>\n",
              "</div>\n",
              "    </div>\n",
              "  </div>\n"
            ]
          },
          "metadata": {},
          "execution_count": 15
        }
      ]
    },
    {
      "cell_type": "markdown",
      "source": [
        "Ploting our closing and opening columns."
      ],
      "metadata": {
        "id": "t4fRdrwXNaqS"
      }
    },
    {
      "cell_type": "code",
      "source": [
        "plt.figure(figsize=[20,5])\n",
        "plt.subplot(1,2,1)\n",
        "plt.plot(dates, df['Close'],'r',label='Closing Price')\n",
        "plt.legend()\n",
        "plt.xlabel('Date',fontsize=20 , color='g')\n",
        "plt.ylabel('Closing',fontsize=20 , color='g')\n",
        "plt.subplot(1,2,2)\n",
        "plt.plot(dates, df['Open'],'g', label='Opening Price')\n",
        "plt.legend()\n",
        "plt.xlabel('Date',fontsize=20 , color='g')\n",
        "plt.ylabel('Opening',fontsize=20 , color='g')\n",
        "plt.show()"
      ],
      "metadata": {
        "colab": {
          "base_uri": "https://localhost:8080/",
          "height": 416
        },
        "id": "0StvB75PNfVp",
        "outputId": "3312522b-947e-48e6-b2ff-894bf17a5ecd"
      },
      "execution_count": null,
      "outputs": [
        {
          "output_type": "display_data",
          "data": {
            "text/plain": [
              "<Figure size 2000x500 with 2 Axes>"
            ],
            "image/png": "[encoded data removed]"
          },
          "metadata": {}
        }
      ]
    },
    {
      "cell_type": "markdown",
      "source": [
        "## Data Scaling"
      ],
      "metadata": {
        "id": "5TAI4ay5AXW7"
      }
    },
    {
      "cell_type": "code",
      "source": [
        "scaled_df = df.copy()"
      ],
      "metadata": {
        "id": "1u9DviXCXfaU"
      },
      "execution_count": null,
      "outputs": []
    },
    {
      "cell_type": "code",
      "source": [
        "from sklearn.preprocessing import MinMaxScaler\n",
        "MMs = MinMaxScaler()\n",
        "scaled_df[scaled_df.columns] = MMs.fit_transform(df[df.columns])\n",
        "train_size = round(len(df)*0.80)\n",
        "train_data = scaled_df.iloc[:train_size]\n",
        "test_data = scaled_df.iloc[train_size:]"
      ],
      "metadata": {
        "id": "k2NJz6nCAZG1"
      },
      "execution_count": null,
      "outputs": []
    },
    {
      "cell_type": "code",
      "source": [
        "test_data"
      ],
      "metadata": {
        "colab": {
          "base_uri": "https://localhost:8080/",
          "height": 455
        },
        "id": "XXni9kYlH0xE",
        "outputId": "88408b62-f1f6-4abb-fa33-66148f4e3451"
      },
      "execution_count": null,
      "outputs": [
        {
          "output_type": "execute_result",
          "data": {
            "text/plain": [
              "                               Open     Close\n",
              "Date                                         \n",
              "2021-12-14 00:00:00-05:00  0.784765  0.774210\n",
              "2021-12-15 00:00:00-05:00  0.781403  0.749289\n",
              "2021-12-16 00:00:00-05:00  0.778376  0.789764\n",
              "2021-12-17 00:00:00-05:00  0.796032  0.786586\n",
              "2021-12-20 00:00:00-05:00  0.784597  0.785583\n",
              "...                             ...       ...\n",
              "2023-12-06 00:00:00-05:00  0.617622  0.594414\n",
              "2023-12-07 00:00:00-05:00  0.598453  0.617160\n",
              "2023-12-08 00:00:00-05:00  0.621994  0.629035\n",
              "2023-12-11 00:00:00-05:00  0.621322  0.615655\n",
              "2023-12-12 00:00:00-05:00  0.621658  0.621174\n",
              "\n",
              "[503 rows x 2 columns]"
            ],
            "text/html": [
              "\n",
              "  <div id=\"df-c2b328cd-7dd0-45e7-a334-f4f38bb65fe4\" class=\"colab-df-container\">\n",
              "    <div>\n",
              "<style scoped>\n",
              "    .dataframe tbody tr th:only-of-type {\n",
              "        vertical-align: middle;\n",
              "    }\n",
              "\n",
              "    .dataframe tbody tr th {\n",
              "        vertical-align: top;\n",
              "    }\n",
              "\n",
              "    .dataframe thead th {\n",
              "        text-align: right;\n",
              "    }\n",
              "</style>\n",
              "<table border=\"1\" class=\"dataframe\">\n",
              "  <thead>\n",
              "    <tr style=\"text-align: right;\">\n",
              "      <th></th>\n",
              "      <th>Open</th>\n",
              "      <th>Close</th>\n",
              "    </tr>\n",
              "    <tr>\n",
              "      <th>Date</th>\n",
              "      <th></th>\n",
              "      <th></th>\n",
              "    </tr>\n",
              "  </thead>\n",
              "  <tbody>\n",
              "    <tr>\n",
              "      <th>2021-12-14 00:00:00-05:00</th>\n",
              "      <td>0.784765</td>\n",
              "      <td>0.774210</td>\n",
              "    </tr>\n",
              "    <tr>\n",
              "      <th>2021-12-15 00:00:00-05:00</th>\n",
              "      <td>0.781403</td>\n",
              "      <td>0.749289</td>\n",
              "    </tr>\n",
              "    <tr>\n",
              "      <th>2021-12-16 00:00:00-05:00</th>\n",
              "      <td>0.778376</td>\n",
              "      <td>0.789764</td>\n",
              "    </tr>\n",
              "    <tr>\n",
              "      <th>2021-12-17 00:00:00-05:00</th>\n",
              "      <td>0.796032</td>\n",
              "      <td>0.786586</td>\n",
              "    </tr>\n",
              "    <tr>\n",
              "      <th>2021-12-20 00:00:00-05:00</th>\n",
              "      <td>0.784597</td>\n",
              "      <td>0.785583</td>\n",
              "    </tr>\n",
              "    <tr>\n",
              "      <th>...</th>\n",
              "      <td>...</td>\n",
              "      <td>...</td>\n",
              "    </tr>\n",
              "    <tr>\n",
              "      <th>2023-12-06 00:00:00-05:00</th>\n",
              "      <td>0.617622</td>\n",
              "      <td>0.594414</td>\n",
              "    </tr>\n",
              "    <tr>\n",
              "      <th>2023-12-07 00:00:00-05:00</th>\n",
              "      <td>0.598453</td>\n",
              "      <td>0.617160</td>\n",
              "    </tr>\n",
              "    <tr>\n",
              "      <th>2023-12-08 00:00:00-05:00</th>\n",
              "      <td>0.621994</td>\n",
              "      <td>0.629035</td>\n",
              "    </tr>\n",
              "    <tr>\n",
              "      <th>2023-12-11 00:00:00-05:00</th>\n",
              "      <td>0.621322</td>\n",
              "      <td>0.615655</td>\n",
              "    </tr>\n",
              "    <tr>\n",
              "      <th>2023-12-12 00:00:00-05:00</th>\n",
              "      <td>0.621658</td>\n",
              "      <td>0.621174</td>\n",
              "    </tr>\n",
              "  </tbody>\n",
              "</table>\n",
              "<p>503 rows × 2 columns</p>\n",
              "</div>\n",
              "    <div class=\"colab-df-buttons\">\n",
              "\n",
              "  <div class=\"colab-df-container\">\n",
              "    <button class=\"colab-df-convert\" onclick=\"convertToInteractive('df-c2b328cd-7dd0-45e7-a334-f4f38bb65fe4')\"\n",
              "            title=\"Convert this dataframe to an interactive table.\"\n",
              "            style=\"display:none;\">\n",
              "\n",
              "  <svg xmlns=\"http://www.w3.org/2000/svg\" height=\"24px\" viewBox=\"0 -960 960 960\">\n",
              "    <path d=\"M120-120v-720h720v720H120Zm60-500h600v-160H180v160Zm220 220h160v-160H400v160Zm0 220h160v-160H400v160ZM180-400h160v-160H180v160Zm440 0h160v-160H620v160ZM180-180h160v-160H180v160Zm440 0h160v-160H620v160Z\"/>\n",
              "  </svg>\n",
              "    </button>\n",
              "\n",
              "  <style>\n",
              "    .colab-df-container {\n",
              "      display:flex;\n",
              "      gap: 12px;\n",
              "    }\n",
              "\n",
              "    .colab-df-convert {\n",
              "      background-color: #E8F0FE;\n",
              "      border: none;\n",
              "      border-radius: 50%;\n",
              "      cursor: pointer;\n",
              "      display: none;\n",
              "      fill: #1967D2;\n",
              "      height: 32px;\n",
              "      padding: 0 0 0 0;\n",
              "      width: 32px;\n",
              "    }\n",
              "\n",
              "    .colab-df-convert:hover {\n",
              "      background-color: #E2EBFA;\n",
              "      box-shadow: 0px 1px 2px rgba(60, 64, 67, 0.3), 0px 1px 3px 1px rgba(60, 64, 67, 0.15);\n",
              "      fill: #174EA6;\n",
              "    }\n",
              "\n",
              "    .colab-df-buttons div {\n",
              "      margin-bottom: 4px;\n",
              "    }\n",
              "\n",
              "    [theme=dark] .colab-df-convert {\n",
              "      background-color: #3B4455;\n",
              "      fill: #D2E3FC;\n",
              "    }\n",
              "\n",
              "    [theme=dark] .colab-df-convert:hover {\n",
              "      background-color: #434B5C;\n",
              "      box-shadow: 0px 1px 3px 1px rgba(0, 0, 0, 0.15);\n",
              "      filter: drop-shadow(0px 1px 2px rgba(0, 0, 0, 0.3));\n",
              "      fill: #FFFFFF;\n",
              "    }\n",
              "  </style>\n",
              "\n",
              "    <script>\n",
              "      const buttonEl =\n",
              "        document.querySelector('#df-c2b328cd-7dd0-45e7-a334-f4f38bb65fe4 button.colab-df-convert');\n",
              "      buttonEl.style.display =\n",
              "        google.colab.kernel.accessAllowed ? 'block' : 'none';\n",
              "\n",
              "      async function convertToInteractive(key) {\n",
              "        const element = document.querySelector('#df-c2b328cd-7dd0-45e7-a334-f4f38bb65fe4');\n",
              "        const dataTable =\n",
              "          await google.colab.kernel.invokeFunction('convertToInteractive',\n",
              "                                                    [key], {});\n",
              "        if (!dataTable) return;\n",
              "\n",
              "        const docLinkHtml = 'Like what you see? Visit the ' +\n",
              "          '<a target=\"_blank\" href=https://colab.research.google.com/notebooks/data_table.ipynb>data table notebook</a>'\n",
              "          + ' to learn more about interactive tables.';\n",
              "        element.innerHTML = '';\n",
              "        dataTable['output_type'] = 'display_data';\n",
              "        await google.colab.output.renderOutput(dataTable, element);\n",
              "        const docLink = document.createElement('div');\n",
              "        docLink.innerHTML = docLinkHtml;\n",
              "        element.appendChild(docLink);\n",
              "      }\n",
              "    </script>\n",
              "  </div>\n",
              "\n",
              "\n",
              "<div id=\"df-69bdb134-8ff7-42f6-818c-352f0b734343\">\n",
              "  <button class=\"colab-df-quickchart\" onclick=\"quickchart('df-69bdb134-8ff7-42f6-818c-352f0b734343')\"\n",
              "            title=\"Suggest charts\"\n",
              "            style=\"display:none;\">\n",
              "\n",
              "<svg xmlns=\"http://www.w3.org/2000/svg\" height=\"24px\"viewBox=\"0 0 24 24\"\n",
              "     width=\"24px\">\n",
              "    <g>\n",
              "        <path d=\"M19 3H5c-1.1 0-2 .9-2 2v14c0 1.1.9 2 2 2h14c1.1 0 2-.9 2-2V5c0-1.1-.9-2-2-2zM9 17H7v-7h2v7zm4 0h-2V7h2v10zm4 0h-2v-4h2v4z\"/>\n",
              "    </g>\n",
              "</svg>\n",
              "  </button>\n",
              "\n",
              "<style>\n",
              "  .colab-df-quickchart {\n",
              "      --bg-color: #E8F0FE;\n",
              "      --fill-color: #1967D2;\n",
              "      --hover-bg-color: #E2EBFA;\n",
              "      --hover-fill-color: #174EA6;\n",
              "      --disabled-fill-color: #AAA;\n",
              "      --disabled-bg-color: #DDD;\n",
              "  }\n",
              "\n",
              "  [theme=dark] .colab-df-quickchart {\n",
              "      --bg-color: #3B4455;\n",
              "      --fill-color: #D2E3FC;\n",
              "      --hover-bg-color: #434B5C;\n",
              "      --hover-fill-color: #FFFFFF;\n",
              "      --disabled-bg-color: #3B4455;\n",
              "      --disabled-fill-color: #666;\n",
              "  }\n",
              "\n",
              "  .colab-df-quickchart {\n",
              "    background-color: var(--bg-color);\n",
              "    border: none;\n",
              "    border-radius: 50%;\n",
              "    cursor: pointer;\n",
              "    display: none;\n",
              "    fill: var(--fill-color);\n",
              "    height: 32px;\n",
              "    padding: 0;\n",
              "    width: 32px;\n",
              "  }\n",
              "\n",
              "  .colab-df-quickchart:hover {\n",
              "    background-color: var(--hover-bg-color);\n",
              "    box-shadow: 0 1px 2px rgba(60, 64, 67, 0.3), 0 1px 3px 1px rgba(60, 64, 67, 0.15);\n",
              "    fill: var(--button-hover-fill-color);\n",
              "  }\n",
              "\n",
              "  .colab-df-quickchart-complete:disabled,\n",
              "  .colab-df-quickchart-complete:disabled:hover {\n",
              "    background-color: var(--disabled-bg-color);\n",
              "    fill: var(--disabled-fill-color);\n",
              "    box-shadow: none;\n",
              "  }\n",
              "\n",
              "  .colab-df-spinner {\n",
              "    border: 2px solid var(--fill-color);\n",
              "    border-color: transparent;\n",
              "    border-bottom-color: var(--fill-color);\n",
              "    animation:\n",
              "      spin 1s steps(1) infinite;\n",
              "  }\n",
              "\n",
              "  @keyframes spin {\n",
              "    0% {\n",
              "      border-color: transparent;\n",
              "      border-bottom-color: var(--fill-color);\n",
              "      border-left-color: var(--fill-color);\n",
              "    }\n",
              "    20% {\n",
              "      border-color: transparent;\n",
              "      border-left-color: var(--fill-color);\n",
              "      border-top-color: var(--fill-color);\n",
              "    }\n",
              "    30% {\n",
              "      border-color: transparent;\n",
              "      border-left-color: var(--fill-color);\n",
              "      border-top-color: var(--fill-color);\n",
              "      border-right-color: var(--fill-color);\n",
              "    }\n",
              "    40% {\n",
              "      border-color: transparent;\n",
              "      border-right-color: var(--fill-color);\n",
              "      border-top-color: var(--fill-color);\n",
              "    }\n",
              "    60% {\n",
              "      border-color: transparent;\n",
              "      border-right-color: var(--fill-color);\n",
              "    }\n",
              "    80% {\n",
              "      border-color: transparent;\n",
              "      border-right-color: var(--fill-color);\n",
              "      border-bottom-color: var(--fill-color);\n",
              "    }\n",
              "    90% {\n",
              "      border-color: transparent;\n",
              "      border-bottom-color: var(--fill-color);\n",
              "    }\n",
              "  }\n",
              "</style>\n",
              "\n",
              "  <script>\n",
              "    async function quickchart(key) {\n",
              "      const quickchartButtonEl =\n",
              "        document.querySelector('#' + key + ' button');\n",
              "      quickchartButtonEl.disabled = true;  // To prevent multiple clicks.\n",
              "      quickchartButtonEl.classList.add('colab-df-spinner');\n",
              "      try {\n",
              "        const charts = await google.colab.kernel.invokeFunction(\n",
              "            'suggestCharts', [key], {});\n",
              "      } catch (error) {\n",
              "        console.error('Error during call to suggestCharts:', error);\n",
              "      }\n",
              "      quickchartButtonEl.classList.remove('colab-df-spinner');\n",
              "      quickchartButtonEl.classList.add('colab-df-quickchart-complete');\n",
              "    }\n",
              "    (() => {\n",
              "      let quickchartButtonEl =\n",
              "        document.querySelector('#df-69bdb134-8ff7-42f6-818c-352f0b734343 button');\n",
              "      quickchartButtonEl.style.display =\n",
              "        google.colab.kernel.accessAllowed ? 'block' : 'none';\n",
              "    })();\n",
              "  </script>\n",
              "</div>\n",
              "    </div>\n",
              "  </div>\n"
            ]
          },
          "metadata": {},
          "execution_count": 65
        }
      ]
    },
    {
      "cell_type": "markdown",
      "source": [
        "## Preparing Dataset"
      ],
      "metadata": {
        "id": "m4KecoYSWPF4"
      }
    },
    {
      "cell_type": "markdown",
      "source": [
        "For every row in our data, we will lookback 50 rows of the previous closing and opening data. create_sequence function with take our dataframe lets say of length 1000. It will start from row of index 50 and place the previous 50 rows prices in this row. This function will return two np.arrays. The first one will have 100 columns where 50 columns is the previous closing prices and 50 columns of opening prices and will return output np.array which will contains the closing and opening outputs of this 100 columns."
      ],
      "metadata": {
        "id": "ldF0cdgcaSly"
      }
    },
    {
      "cell_type": "code",
      "source": [
        "def create_sequence(dataset):\n",
        "  sequences = []\n",
        "  labels = []\n",
        "\n",
        "  start_idx = 0\n",
        "\n",
        "  for stop_idx in range(50,len(dataset)): # Selecting 50 rows at a time\n",
        "    sequences.append(dataset.iloc[start_idx:stop_idx])\n",
        "    labels.append(dataset.iloc[stop_idx])\n",
        "    start_idx += 1\n",
        "  return (np.array(sequences),np.array(labels))"
      ],
      "metadata": {
        "id": "htg1U9yvBBSI"
      },
      "execution_count": null,
      "outputs": []
    },
    {
      "cell_type": "code",
      "source": [
        "train_seq, train_label = create_sequence(train_data)\n",
        "test_seq, test_label = create_sequence(test_data)"
      ],
      "metadata": {
        "id": "QdF3QU8AWUYF"
      },
      "execution_count": null,
      "outputs": []
    },
    {
      "cell_type": "code",
      "source": [
        "train_dates = dates.iloc[50:train_size]\n",
        "test_dates = dates.iloc[50+train_size:]"
      ],
      "metadata": {
        "id": "LIpNb6uzHUca"
      },
      "execution_count": null,
      "outputs": []
    },
    {
      "cell_type": "code",
      "source": [
        "len(train_dates),len(test_dates)"
      ],
      "metadata": {
        "colab": {
          "base_uri": "https://localhost:8080/"
        },
        "id": "N2CtKhKlHbMh",
        "outputId": "91ea9373-7c59-4d8e-fc0b-65862eba1404"
      },
      "execution_count": null,
      "outputs": [
        {
          "output_type": "execute_result",
          "data": {
            "text/plain": [
              "(1962, 503)"
            ]
          },
          "metadata": {},
          "execution_count": 63
        }
      ]
    },
    {
      "cell_type": "code",
      "source": [
        "train_seq.shape , test_seq.shape , train_label.shape , test_label.shape"
      ],
      "metadata": {
        "colab": {
          "base_uri": "https://localhost:8080/"
        },
        "id": "ueAalgmLhBAr",
        "outputId": "1ad9a2ab-32b8-4666-9145-ec98c9eebb28"
      },
      "execution_count": null,
      "outputs": [
        {
          "output_type": "execute_result",
          "data": {
            "text/plain": [
              "((1962, 50, 2), (453, 50, 2), (1962, 2), (453, 2))"
            ]
          },
          "metadata": {},
          "execution_count": 21
        }
      ]
    },
    {
      "cell_type": "markdown",
      "source": [
        "## LSTM Model"
      ],
      "metadata": {
        "id": "znPTLw2aihHH"
      }
    },
    {
      "cell_type": "code",
      "source": [
        "from keras import Sequential\n",
        "from keras.layers import Dense , Dropout, LSTM , Bidirectional"
      ],
      "metadata": {
        "id": "JteaAiuqijE9"
      },
      "execution_count": null,
      "outputs": []
    },
    {
      "cell_type": "code",
      "source": [
        "model = Sequential()\n",
        "model.add(LSTM(units=50, return_sequences=True ,input_shape=train_seq.shape[1:]))\n",
        "model.add(Dropout(0.1))\n",
        "model.add(LSTM(units=50))\n",
        "model.add(Dense(2))\n",
        "model.compile(loss='mean_squared_error', optimizer='adam',metrics=['mean_absolute_error'])\n",
        "model.summary( )"
      ],
      "metadata": {
        "colab": {
          "base_uri": "https://localhost:8080/"
        },
        "id": "3jD1dz4diyB7",
        "outputId": "7f907dc6-57f6-427f-bebd-e6e693f2d591"
      },
      "execution_count": null,
      "outputs": [
        {
          "output_type": "stream",
          "name": "stdout",
          "text": [
            "Model: \"sequential_4\"\n",
            "_________________________________________________________________\n",
            " Layer (type)                Output Shape              Param #   \n",
            "=================================================================\n",
            " lstm_8 (LSTM)               (None, 50, 50)            10600     \n",
            "                                                                 \n",
            " dropout_4 (Dropout)         (None, 50, 50)            0         \n",
            "                                                                 \n",
            " lstm_9 (LSTM)               (None, 50)                20200     \n",
            "                                                                 \n",
            " dense_4 (Dense)             (None, 2)                 102       \n",
            "                                                                 \n",
            "=================================================================\n",
            "Total params: 30902 (120.71 KB)\n",
            "Trainable params: 30902 (120.71 KB)\n",
            "Non-trainable params: 0 (0.00 Byte)\n",
            "_________________________________________________________________\n"
          ]
        }
      ]
    },
    {
      "cell_type": "code",
      "source": [
        "train_seq.shape[:2]"
      ],
      "metadata": {
        "colab": {
          "base_uri": "https://localhost:8080/"
        },
        "id": "N-AV-kHX85dg",
        "outputId": "27d252a2-db91-4b4c-cc97-109f3b0f1ad3"
      },
      "execution_count": null,
      "outputs": [
        {
          "output_type": "execute_result",
          "data": {
            "text/plain": [
              "(1962, 50)"
            ]
          },
          "metadata": {},
          "execution_count": 25
        }
      ]
    },
    {
      "cell_type": "code",
      "source": [
        "train_label.dtype"
      ],
      "metadata": {
        "colab": {
          "base_uri": "https://localhost:8080/"
        },
        "id": "mE5dmRuyAAbR",
        "outputId": "fd9cd115-c889-476f-f279-bb8550b88c30"
      },
      "execution_count": null,
      "outputs": [
        {
          "output_type": "execute_result",
          "data": {
            "text/plain": [
              "dtype('float64')"
            ]
          },
          "metadata": {},
          "execution_count": 34
        }
      ]
    },
    {
      "cell_type": "code",
      "source": [
        "model.fit(train_seq, train_label , epochs=80,verbose=1)"
      ],
      "metadata": {
        "colab": {
          "base_uri": "https://localhost:8080/"
        },
        "id": "5WiuAqER_jI0",
        "outputId": "2124eeed-0892-4141-e21d-3bc8cdaa74d6"
      },
      "execution_count": null,
      "outputs": [
        {
          "output_type": "stream",
          "name": "stdout",
          "text": [
            "Epoch 1/80\n",
            "62/62 [==============================] - 10s 67ms/step - loss: 0.0113 - mean_absolute_error: 0.0615\n",
            "Epoch 2/80\n",
            "62/62 [==============================] - 3s 51ms/step - loss: 0.0011 - mean_absolute_error: 0.0247\n",
            "Epoch 3/80\n",
            "62/62 [==============================] - 3s 51ms/step - loss: 0.0011 - mean_absolute_error: 0.0240\n",
            "Epoch 4/80\n",
            "62/62 [==============================] - 4s 62ms/step - loss: 0.0010 - mean_absolute_error: 0.0236\n",
            "Epoch 5/80\n",
            "62/62 [==============================] - 4s 72ms/step - loss: 9.2202e-04 - mean_absolute_error: 0.0225\n",
            "Epoch 6/80\n",
            "62/62 [==============================] - 3s 51ms/step - loss: 8.9932e-04 - mean_absolute_error: 0.0222\n",
            "Epoch 7/80\n",
            "62/62 [==============================] - 3s 51ms/step - loss: 9.0542e-04 - mean_absolute_error: 0.0222\n",
            "Epoch 8/80\n",
            "62/62 [==============================] - 6s 102ms/step - loss: 8.3613e-04 - mean_absolute_error: 0.0214\n",
            "Epoch 9/80\n",
            "62/62 [==============================] - 4s 57ms/step - loss: 7.3602e-04 - mean_absolute_error: 0.0201\n",
            "Epoch 10/80\n",
            "62/62 [==============================] - 3s 50ms/step - loss: 7.2082e-04 - mean_absolute_error: 0.0200\n",
            "Epoch 11/80\n",
            "62/62 [==============================] - 4s 71ms/step - loss: 6.4385e-04 - mean_absolute_error: 0.0189\n",
            "Epoch 12/80\n",
            "62/62 [==============================] - 5s 80ms/step - loss: 6.3835e-04 - mean_absolute_error: 0.0186\n",
            "Epoch 13/80\n",
            "62/62 [==============================] - 3s 50ms/step - loss: 6.9832e-04 - mean_absolute_error: 0.0198\n",
            "Epoch 14/80\n",
            "62/62 [==============================] - 3s 50ms/step - loss: 6.0929e-04 - mean_absolute_error: 0.0183\n",
            "Epoch 15/80\n",
            "62/62 [==============================] - 3s 50ms/step - loss: 6.6331e-04 - mean_absolute_error: 0.0187\n",
            "Epoch 16/80\n",
            "62/62 [==============================] - 5s 82ms/step - loss: 5.7052e-04 - mean_absolute_error: 0.0177\n",
            "Epoch 17/80\n",
            "62/62 [==============================] - 3s 51ms/step - loss: 5.4130e-04 - mean_absolute_error: 0.0172\n",
            "Epoch 18/80\n",
            "62/62 [==============================] - 3s 52ms/step - loss: 5.1134e-04 - mean_absolute_error: 0.0167\n",
            "Epoch 19/80\n",
            "62/62 [==============================] - 3s 52ms/step - loss: 5.3530e-04 - mean_absolute_error: 0.0172\n",
            "Epoch 20/80\n",
            "62/62 [==============================] - 5s 79ms/step - loss: 5.6655e-04 - mean_absolute_error: 0.0175\n",
            "Epoch 21/80\n",
            "62/62 [==============================] - 3s 54ms/step - loss: 4.8863e-04 - mean_absolute_error: 0.0162\n",
            "Epoch 22/80\n",
            "62/62 [==============================] - 3s 51ms/step - loss: 5.0895e-04 - mean_absolute_error: 0.0165\n",
            "Epoch 23/80\n",
            "62/62 [==============================] - 3s 50ms/step - loss: 5.0775e-04 - mean_absolute_error: 0.0166\n",
            "Epoch 24/80\n",
            "62/62 [==============================] - 5s 75ms/step - loss: 4.5406e-04 - mean_absolute_error: 0.0156\n",
            "Epoch 25/80\n",
            "62/62 [==============================] - 4s 58ms/step - loss: 4.1839e-04 - mean_absolute_error: 0.0151\n",
            "Epoch 26/80\n",
            "62/62 [==============================] - 3s 49ms/step - loss: 4.2230e-04 - mean_absolute_error: 0.0152\n",
            "Epoch 27/80\n",
            "62/62 [==============================] - 3s 49ms/step - loss: 3.8337e-04 - mean_absolute_error: 0.0145\n",
            "Epoch 28/80\n",
            "62/62 [==============================] - 4s 66ms/step - loss: 4.3733e-04 - mean_absolute_error: 0.0153\n",
            "Epoch 29/80\n",
            "62/62 [==============================] - 4s 64ms/step - loss: 3.9286e-04 - mean_absolute_error: 0.0145\n",
            "Epoch 30/80\n",
            "62/62 [==============================] - 3s 50ms/step - loss: 3.9752e-04 - mean_absolute_error: 0.0146\n",
            "Epoch 31/80\n",
            "62/62 [==============================] - 3s 50ms/step - loss: 3.7469e-04 - mean_absolute_error: 0.0142\n",
            "Epoch 32/80\n",
            "62/62 [==============================] - 4s 62ms/step - loss: 3.8625e-04 - mean_absolute_error: 0.0146\n",
            "Epoch 33/80\n",
            "62/62 [==============================] - 4s 71ms/step - loss: 3.8748e-04 - mean_absolute_error: 0.0146\n",
            "Epoch 34/80\n",
            "62/62 [==============================] - 3s 53ms/step - loss: 3.5254e-04 - mean_absolute_error: 0.0139\n",
            "Epoch 35/80\n",
            "62/62 [==============================] - 3s 52ms/step - loss: 3.6208e-04 - mean_absolute_error: 0.0140\n",
            "Epoch 36/80\n",
            "62/62 [==============================] - 4s 63ms/step - loss: 4.0290e-04 - mean_absolute_error: 0.0148\n",
            "Epoch 37/80\n",
            "62/62 [==============================] - 4s 70ms/step - loss: 3.6012e-04 - mean_absolute_error: 0.0140\n",
            "Epoch 38/80\n",
            "62/62 [==============================] - 3s 51ms/step - loss: 3.3468e-04 - mean_absolute_error: 0.0133\n",
            "Epoch 39/80\n",
            "62/62 [==============================] - 3s 49ms/step - loss: 3.3271e-04 - mean_absolute_error: 0.0135\n",
            "Epoch 40/80\n",
            "62/62 [==============================] - 3s 55ms/step - loss: 3.4139e-04 - mean_absolute_error: 0.0134\n",
            "Epoch 41/80\n",
            "62/62 [==============================] - 5s 76ms/step - loss: 3.1019e-04 - mean_absolute_error: 0.0130\n",
            "Epoch 42/80\n",
            "62/62 [==============================] - 3s 50ms/step - loss: 3.1296e-04 - mean_absolute_error: 0.0128\n",
            "Epoch 43/80\n",
            "62/62 [==============================] - 3s 50ms/step - loss: 2.8362e-04 - mean_absolute_error: 0.0125\n",
            "Epoch 44/80\n",
            "62/62 [==============================] - 3s 50ms/step - loss: 2.8705e-04 - mean_absolute_error: 0.0125\n",
            "Epoch 45/80\n",
            "62/62 [==============================] - 5s 81ms/step - loss: 2.8433e-04 - mean_absolute_error: 0.0123\n",
            "Epoch 46/80\n",
            "62/62 [==============================] - 3s 50ms/step - loss: 2.7298e-04 - mean_absolute_error: 0.0122\n",
            "Epoch 47/80\n",
            "62/62 [==============================] - 3s 50ms/step - loss: 2.5189e-04 - mean_absolute_error: 0.0117\n",
            "Epoch 48/80\n",
            "62/62 [==============================] - 3s 49ms/step - loss: 3.0284e-04 - mean_absolute_error: 0.0126\n",
            "Epoch 49/80\n",
            "62/62 [==============================] - 5s 80ms/step - loss: 2.6778e-04 - mean_absolute_error: 0.0121\n",
            "Epoch 50/80\n",
            "62/62 [==============================] - 3s 55ms/step - loss: 2.8316e-04 - mean_absolute_error: 0.0123\n",
            "Epoch 51/80\n",
            "62/62 [==============================] - 3s 51ms/step - loss: 2.6435e-04 - mean_absolute_error: 0.0119\n",
            "Epoch 52/80\n",
            "62/62 [==============================] - 3s 50ms/step - loss: 2.6373e-04 - mean_absolute_error: 0.0119\n",
            "Epoch 53/80\n",
            "62/62 [==============================] - 5s 77ms/step - loss: 3.0236e-04 - mean_absolute_error: 0.0130\n",
            "Epoch 54/80\n",
            "62/62 [==============================] - 3s 55ms/step - loss: 2.5860e-04 - mean_absolute_error: 0.0116\n",
            "Epoch 55/80\n",
            "62/62 [==============================] - 3s 50ms/step - loss: 2.4765e-04 - mean_absolute_error: 0.0116\n",
            "Epoch 56/80\n",
            "62/62 [==============================] - 3s 49ms/step - loss: 2.6950e-04 - mean_absolute_error: 0.0119\n",
            "Epoch 57/80\n",
            "62/62 [==============================] - 4s 71ms/step - loss: 2.3357e-04 - mean_absolute_error: 0.0113\n",
            "Epoch 58/80\n",
            "62/62 [==============================] - 4s 60ms/step - loss: 2.2334e-04 - mean_absolute_error: 0.0110\n",
            "Epoch 59/80\n",
            "62/62 [==============================] - 3s 51ms/step - loss: 2.2418e-04 - mean_absolute_error: 0.0108\n",
            "Epoch 60/80\n",
            "62/62 [==============================] - 3s 51ms/step - loss: 2.8200e-04 - mean_absolute_error: 0.0124\n",
            "Epoch 61/80\n",
            "62/62 [==============================] - 4s 66ms/step - loss: 2.2139e-04 - mean_absolute_error: 0.0108\n",
            "Epoch 62/80\n",
            "62/62 [==============================] - 4s 65ms/step - loss: 2.3558e-04 - mean_absolute_error: 0.0111\n",
            "Epoch 63/80\n",
            "62/62 [==============================] - 3s 50ms/step - loss: 2.3395e-04 - mean_absolute_error: 0.0110\n",
            "Epoch 64/80\n",
            "62/62 [==============================] - 3s 50ms/step - loss: 2.2293e-04 - mean_absolute_error: 0.0107\n",
            "Epoch 65/80\n",
            "62/62 [==============================] - 4s 62ms/step - loss: 2.1955e-04 - mean_absolute_error: 0.0106\n",
            "Epoch 66/80\n",
            "62/62 [==============================] - 4s 71ms/step - loss: 2.1400e-04 - mean_absolute_error: 0.0106\n",
            "Epoch 67/80\n",
            "62/62 [==============================] - 3s 51ms/step - loss: 2.1095e-04 - mean_absolute_error: 0.0106\n",
            "Epoch 68/80\n",
            "62/62 [==============================] - 3s 52ms/step - loss: 2.2231e-04 - mean_absolute_error: 0.0106\n",
            "Epoch 69/80\n",
            "62/62 [==============================] - 4s 61ms/step - loss: 2.0306e-04 - mean_absolute_error: 0.0104\n",
            "Epoch 70/80\n",
            "62/62 [==============================] - 5s 73ms/step - loss: 1.9730e-04 - mean_absolute_error: 0.0102\n",
            "Epoch 71/80\n",
            "62/62 [==============================] - 3s 52ms/step - loss: 1.8957e-04 - mean_absolute_error: 0.0101\n",
            "Epoch 72/80\n",
            "62/62 [==============================] - 3s 52ms/step - loss: 2.1797e-04 - mean_absolute_error: 0.0105\n",
            "Epoch 73/80\n",
            "62/62 [==============================] - 4s 58ms/step - loss: 1.8665e-04 - mean_absolute_error: 0.0097\n",
            "Epoch 74/80\n",
            "62/62 [==============================] - 5s 75ms/step - loss: 2.0935e-04 - mean_absolute_error: 0.0104\n",
            "Epoch 75/80\n",
            "62/62 [==============================] - 3s 51ms/step - loss: 2.0827e-04 - mean_absolute_error: 0.0104\n",
            "Epoch 76/80\n",
            "62/62 [==============================] - 3s 50ms/step - loss: 2.0146e-04 - mean_absolute_error: 0.0101\n",
            "Epoch 77/80\n",
            "62/62 [==============================] - 3s 55ms/step - loss: 1.8438e-04 - mean_absolute_error: 0.0098\n",
            "Epoch 78/80\n",
            "62/62 [==============================] - 5s 77ms/step - loss: 2.1526e-04 - mean_absolute_error: 0.0106\n",
            "Epoch 79/80\n",
            "62/62 [==============================] - 3s 50ms/step - loss: 2.0851e-04 - mean_absolute_error: 0.0105\n",
            "Epoch 80/80\n",
            "62/62 [==============================] - 3s 50ms/step - loss: 1.9973e-04 - mean_absolute_error: 0.0100\n"
          ]
        },
        {
          "output_type": "execute_result",
          "data": {
            "text/plain": [
              "<keras.src.callbacks.History at 0x7ace5995e620>"
            ]
          },
          "metadata": {},
          "execution_count": 36
        }
      ]
    },
    {
      "cell_type": "markdown",
      "source": [
        "predict test data"
      ],
      "metadata": {
        "id": "EvwTdSj8BhWs"
      }
    },
    {
      "cell_type": "code",
      "source": [
        "predicted_y = model.predict(test_seq)"
      ],
      "metadata": {
        "colab": {
          "base_uri": "https://localhost:8080/"
        },
        "id": "B1-6ES8WBg2A",
        "outputId": "2f26d8e5-4afb-4873-b58b-b8f87906886b"
      },
      "execution_count": null,
      "outputs": [
        {
          "output_type": "stream",
          "name": "stdout",
          "text": [
            "15/15 [==============================] - 1s 15ms/step\n"
          ]
        }
      ]
    },
    {
      "cell_type": "code",
      "source": [
        "predicted_y.shape , test_label.shape"
      ],
      "metadata": {
        "colab": {
          "base_uri": "https://localhost:8080/"
        },
        "id": "E9aSAZmwGqY8",
        "outputId": "f22cbb9a-e0b2-42f9-eaf8-352eb1a209bf"
      },
      "execution_count": null,
      "outputs": [
        {
          "output_type": "execute_result",
          "data": {
            "text/plain": [
              "((453, 2), (453, 2))"
            ]
          },
          "metadata": {},
          "execution_count": 56
        }
      ]
    },
    {
      "cell_type": "code",
      "source": [
        "predicted_y_inverse = MMs.inverse_transform(predicted_y)\n",
        "test_label_inverse = MMs.inverse_transform(test_label)"
      ],
      "metadata": {
        "id": "-Y-e1a3uCWtU"
      },
      "execution_count": null,
      "outputs": []
    },
    {
      "cell_type": "code",
      "source": [
        "test_label_inverse.shape,predicted_y.shape"
      ],
      "metadata": {
        "colab": {
          "base_uri": "https://localhost:8080/"
        },
        "id": "HCWks0FMFzmn",
        "outputId": "79f52bec-8276-4246-bb71-f3c3d045b43f"
      },
      "execution_count": null,
      "outputs": [
        {
          "output_type": "execute_result",
          "data": {
            "text/plain": [
              "((453, 2), (453, 2))"
            ]
          },
          "metadata": {},
          "execution_count": 59
        }
      ]
    },
    {
      "cell_type": "code",
      "source": [
        "len(test_dates)"
      ],
      "metadata": {
        "colab": {
          "base_uri": "https://localhost:8080/"
        },
        "id": "qG_JLJf_HH5V",
        "outputId": "0118cdc5-e65b-49ca-d53a-69678addd223"
      },
      "execution_count": null,
      "outputs": [
        {
          "output_type": "execute_result",
          "data": {
            "text/plain": [
              "503"
            ]
          },
          "metadata": {},
          "execution_count": 61
        }
      ]
    },
    {
      "cell_type": "code",
      "source": [
        "predicted_y_inverse = pd.DataFrame(predicted_y_inverse , columns=['Predicted Open','Predicted Close'], index=test_dates['Date'])\n",
        "test_y_inverse = pd.DataFrame(test_label_inverse , columns=['Open','Close'], index=test_dates['Date'])"
      ],
      "metadata": {
        "id": "yi79O2EZCzbg"
      },
      "execution_count": null,
      "outputs": []
    },
    {
      "cell_type": "code",
      "source": [
        "predicted_y_inverse.shape , test_y_inverse.shape"
      ],
      "metadata": {
        "colab": {
          "base_uri": "https://localhost:8080/"
        },
        "id": "-PrM0rXQGOV5",
        "outputId": "a346de45-e713-4520-dbb8-5bd0235611a0"
      },
      "execution_count": null,
      "outputs": [
        {
          "output_type": "execute_result",
          "data": {
            "text/plain": [
              "((453, 2), (453, 2))"
            ]
          },
          "metadata": {},
          "execution_count": 68
        }
      ]
    },
    {
      "cell_type": "code",
      "source": [
        "result = pd.concat([test_y_inverse,predicted_y_inverse],axis=1)\n",
        "result"
      ],
      "metadata": {
        "colab": {
          "base_uri": "https://localhost:8080/",
          "height": 455
        },
        "id": "3LJqKn2jDT06",
        "outputId": "c0793183-d234-45d5-8ed4-92d0a71b6364"
      },
      "execution_count": null,
      "outputs": [
        {
          "output_type": "execute_result",
          "data": {
            "text/plain": [
              "                             Open   Close  Predicted Open  Predicted Close\n",
              "Date                                                                      \n",
              "2022-02-25 00:00:00-05:00  4.5000  4.4720        4.482980         4.478501\n",
              "2022-02-28 00:00:00-05:00  4.4560  4.4445        4.513632         4.508055\n",
              "2022-03-01 00:00:00-05:00  4.4965  4.5865        4.463865         4.459845\n",
              "2022-03-02 00:00:00-05:00  4.5630  4.6555        4.629957         4.619641\n",
              "2022-03-03 00:00:00-05:00  4.7000  4.7715        4.656270         4.642938\n",
              "...                           ...     ...             ...              ...\n",
              "2023-12-06 00:00:00-05:00  3.7730  3.7165        3.799115         3.794733\n",
              "2023-12-07 00:00:00-05:00  3.7160  3.7845        3.750993         3.748614\n",
              "2023-12-08 00:00:00-05:00  3.7860  3.8200        3.806856         3.802428\n",
              "2023-12-11 00:00:00-05:00  3.7840  3.7800        3.848233         3.841832\n",
              "2023-12-12 00:00:00-05:00  3.7850  3.7965        3.804179         3.799118\n",
              "\n",
              "[453 rows x 4 columns]"
            ],
            "text/html": [
              "\n",
              "  <div id=\"df-90837d1d-8b07-4273-b64c-4dd4868d7429\" class=\"colab-df-container\">\n",
              "    <div>\n",
              "<style scoped>\n",
              "    .dataframe tbody tr th:only-of-type {\n",
              "        vertical-align: middle;\n",
              "    }\n",
              "\n",
              "    .dataframe tbody tr th {\n",
              "        vertical-align: top;\n",
              "    }\n",
              "\n",
              "    .dataframe thead th {\n",
              "        text-align: right;\n",
              "    }\n",
              "</style>\n",
              "<table border=\"1\" class=\"dataframe\">\n",
              "  <thead>\n",
              "    <tr style=\"text-align: right;\">\n",
              "      <th></th>\n",
              "      <th>Open</th>\n",
              "      <th>Close</th>\n",
              "      <th>Predicted Open</th>\n",
              "      <th>Predicted Close</th>\n",
              "    </tr>\n",
              "    <tr>\n",
              "      <th>Date</th>\n",
              "      <th></th>\n",
              "      <th></th>\n",
              "      <th></th>\n",
              "      <th></th>\n",
              "    </tr>\n",
              "  </thead>\n",
              "  <tbody>\n",
              "    <tr>\n",
              "      <th>2022-02-25 00:00:00-05:00</th>\n",
              "      <td>4.5000</td>\n",
              "      <td>4.4720</td>\n",
              "      <td>4.482980</td>\n",
              "      <td>4.478501</td>\n",
              "    </tr>\n",
              "    <tr>\n",
              "      <th>2022-02-28 00:00:00-05:00</th>\n",
              "      <td>4.4560</td>\n",
              "      <td>4.4445</td>\n",
              "      <td>4.513632</td>\n",
              "      <td>4.508055</td>\n",
              "    </tr>\n",
              "    <tr>\n",
              "      <th>2022-03-01 00:00:00-05:00</th>\n",
              "      <td>4.4965</td>\n",
              "      <td>4.5865</td>\n",
              "      <td>4.463865</td>\n",
              "      <td>4.459845</td>\n",
              "    </tr>\n",
              "    <tr>\n",
              "      <th>2022-03-02 00:00:00-05:00</th>\n",
              "      <td>4.5630</td>\n",
              "      <td>4.6555</td>\n",
              "      <td>4.629957</td>\n",
              "      <td>4.619641</td>\n",
              "    </tr>\n",
              "    <tr>\n",
              "      <th>2022-03-03 00:00:00-05:00</th>\n",
              "      <td>4.7000</td>\n",
              "      <td>4.7715</td>\n",
              "      <td>4.656270</td>\n",
              "      <td>4.642938</td>\n",
              "    </tr>\n",
              "    <tr>\n",
              "      <th>...</th>\n",
              "      <td>...</td>\n",
              "      <td>...</td>\n",
              "      <td>...</td>\n",
              "      <td>...</td>\n",
              "    </tr>\n",
              "    <tr>\n",
              "      <th>2023-12-06 00:00:00-05:00</th>\n",
              "      <td>3.7730</td>\n",
              "      <td>3.7165</td>\n",
              "      <td>3.799115</td>\n",
              "      <td>3.794733</td>\n",
              "    </tr>\n",
              "    <tr>\n",
              "      <th>2023-12-07 00:00:00-05:00</th>\n",
              "      <td>3.7160</td>\n",
              "      <td>3.7845</td>\n",
              "      <td>3.750993</td>\n",
              "      <td>3.748614</td>\n",
              "    </tr>\n",
              "    <tr>\n",
              "      <th>2023-12-08 00:00:00-05:00</th>\n",
              "      <td>3.7860</td>\n",
              "      <td>3.8200</td>\n",
              "      <td>3.806856</td>\n",
              "      <td>3.802428</td>\n",
              "    </tr>\n",
              "    <tr>\n",
              "      <th>2023-12-11 00:00:00-05:00</th>\n",
              "      <td>3.7840</td>\n",
              "      <td>3.7800</td>\n",
              "      <td>3.848233</td>\n",
              "      <td>3.841832</td>\n",
              "    </tr>\n",
              "    <tr>\n",
              "      <th>2023-12-12 00:00:00-05:00</th>\n",
              "      <td>3.7850</td>\n",
              "      <td>3.7965</td>\n",
              "      <td>3.804179</td>\n",
              "      <td>3.799118</td>\n",
              "    </tr>\n",
              "  </tbody>\n",
              "</table>\n",
              "<p>453 rows × 4 columns</p>\n",
              "</div>\n",
              "    <div class=\"colab-df-buttons\">\n",
              "\n",
              "  <div class=\"colab-df-container\">\n",
              "    <button class=\"colab-df-convert\" onclick=\"convertToInteractive('df-90837d1d-8b07-4273-b64c-4dd4868d7429')\"\n",
              "            title=\"Convert this dataframe to an interactive table.\"\n",
              "            style=\"display:none;\">\n",
              "\n",
              "  <svg xmlns=\"http://www.w3.org/2000/svg\" height=\"24px\" viewBox=\"0 -960 960 960\">\n",
              "    <path d=\"M120-120v-720h720v720H120Zm60-500h600v-160H180v160Zm220 220h160v-160H400v160Zm0 220h160v-160H400v160ZM180-400h160v-160H180v160Zm440 0h160v-160H620v160ZM180-180h160v-160H180v160Zm440 0h160v-160H620v160Z\"/>\n",
              "  </svg>\n",
              "    </button>\n",
              "\n",
              "  <style>\n",
              "    .colab-df-container {\n",
              "      display:flex;\n",
              "      gap: 12px;\n",
              "    }\n",
              "\n",
              "    .colab-df-convert {\n",
              "      background-color: #E8F0FE;\n",
              "      border: none;\n",
              "      border-radius: 50%;\n",
              "      cursor: pointer;\n",
              "      display: none;\n",
              "      fill: #1967D2;\n",
              "      height: 32px;\n",
              "      padding: 0 0 0 0;\n",
              "      width: 32px;\n",
              "    }\n",
              "\n",
              "    .colab-df-convert:hover {\n",
              "      background-color: #E2EBFA;\n",
              "      box-shadow: 0px 1px 2px rgba(60, 64, 67, 0.3), 0px 1px 3px 1px rgba(60, 64, 67, 0.15);\n",
              "      fill: #174EA6;\n",
              "    }\n",
              "\n",
              "    .colab-df-buttons div {\n",
              "      margin-bottom: 4px;\n",
              "    }\n",
              "\n",
              "    [theme=dark] .colab-df-convert {\n",
              "      background-color: #3B4455;\n",
              "      fill: #D2E3FC;\n",
              "    }\n",
              "\n",
              "    [theme=dark] .colab-df-convert:hover {\n",
              "      background-color: #434B5C;\n",
              "      box-shadow: 0px 1px 3px 1px rgba(0, 0, 0, 0.15);\n",
              "      filter: drop-shadow(0px 1px 2px rgba(0, 0, 0, 0.3));\n",
              "      fill: #FFFFFF;\n",
              "    }\n",
              "  </style>\n",
              "\n",
              "    <script>\n",
              "      const buttonEl =\n",
              "        document.querySelector('#df-90837d1d-8b07-4273-b64c-4dd4868d7429 button.colab-df-convert');\n",
              "      buttonEl.style.display =\n",
              "        google.colab.kernel.accessAllowed ? 'block' : 'none';\n",
              "\n",
              "      async function convertToInteractive(key) {\n",
              "        const element = document.querySelector('#df-90837d1d-8b07-4273-b64c-4dd4868d7429');\n",
              "        const dataTable =\n",
              "          await google.colab.kernel.invokeFunction('convertToInteractive',\n",
              "                                                    [key], {});\n",
              "        if (!dataTable) return;\n",
              "\n",
              "        const docLinkHtml = 'Like what you see? Visit the ' +\n",
              "          '<a target=\"_blank\" href=https://colab.research.google.com/notebooks/data_table.ipynb>data table notebook</a>'\n",
              "          + ' to learn more about interactive tables.';\n",
              "        element.innerHTML = '';\n",
              "        dataTable['output_type'] = 'display_data';\n",
              "        await google.colab.output.renderOutput(dataTable, element);\n",
              "        const docLink = document.createElement('div');\n",
              "        docLink.innerHTML = docLinkHtml;\n",
              "        element.appendChild(docLink);\n",
              "      }\n",
              "    </script>\n",
              "  </div>\n",
              "\n",
              "\n",
              "<div id=\"df-3a345968-5fb0-4d01-a306-1e9389e5e538\">\n",
              "  <button class=\"colab-df-quickchart\" onclick=\"quickchart('df-3a345968-5fb0-4d01-a306-1e9389e5e538')\"\n",
              "            title=\"Suggest charts\"\n",
              "            style=\"display:none;\">\n",
              "\n",
              "<svg xmlns=\"http://www.w3.org/2000/svg\" height=\"24px\"viewBox=\"0 0 24 24\"\n",
              "     width=\"24px\">\n",
              "    <g>\n",
              "        <path d=\"M19 3H5c-1.1 0-2 .9-2 2v14c0 1.1.9 2 2 2h14c1.1 0 2-.9 2-2V5c0-1.1-.9-2-2-2zM9 17H7v-7h2v7zm4 0h-2V7h2v10zm4 0h-2v-4h2v4z\"/>\n",
              "    </g>\n",
              "</svg>\n",
              "  </button>\n",
              "\n",
              "<style>\n",
              "  .colab-df-quickchart {\n",
              "      --bg-color: #E8F0FE;\n",
              "      --fill-color: #1967D2;\n",
              "      --hover-bg-color: #E2EBFA;\n",
              "      --hover-fill-color: #174EA6;\n",
              "      --disabled-fill-color: #AAA;\n",
              "      --disabled-bg-color: #DDD;\n",
              "  }\n",
              "\n",
              "  [theme=dark] .colab-df-quickchart {\n",
              "      --bg-color: #3B4455;\n",
              "      --fill-color: #D2E3FC;\n",
              "      --hover-bg-color: #434B5C;\n",
              "      --hover-fill-color: #FFFFFF;\n",
              "      --disabled-bg-color: #3B4455;\n",
              "      --disabled-fill-color: #666;\n",
              "  }\n",
              "\n",
              "  .colab-df-quickchart {\n",
              "    background-color: var(--bg-color);\n",
              "    border: none;\n",
              "    border-radius: 50%;\n",
              "    cursor: pointer;\n",
              "    display: none;\n",
              "    fill: var(--fill-color);\n",
              "    height: 32px;\n",
              "    padding: 0;\n",
              "    width: 32px;\n",
              "  }\n",
              "\n",
              "  .colab-df-quickchart:hover {\n",
              "    background-color: var(--hover-bg-color);\n",
              "    box-shadow: 0 1px 2px rgba(60, 64, 67, 0.3), 0 1px 3px 1px rgba(60, 64, 67, 0.15);\n",
              "    fill: var(--button-hover-fill-color);\n",
              "  }\n",
              "\n",
              "  .colab-df-quickchart-complete:disabled,\n",
              "  .colab-df-quickchart-complete:disabled:hover {\n",
              "    background-color: var(--disabled-bg-color);\n",
              "    fill: var(--disabled-fill-color);\n",
              "    box-shadow: none;\n",
              "  }\n",
              "\n",
              "  .colab-df-spinner {\n",
              "    border: 2px solid var(--fill-color);\n",
              "    border-color: transparent;\n",
              "    border-bottom-color: var(--fill-color);\n",
              "    animation:\n",
              "      spin 1s steps(1) infinite;\n",
              "  }\n",
              "\n",
              "  @keyframes spin {\n",
              "    0% {\n",
              "      border-color: transparent;\n",
              "      border-bottom-color: var(--fill-color);\n",
              "      border-left-color: var(--fill-color);\n",
              "    }\n",
              "    20% {\n",
              "      border-color: transparent;\n",
              "      border-left-color: var(--fill-color);\n",
              "      border-top-color: var(--fill-color);\n",
              "    }\n",
              "    30% {\n",
              "      border-color: transparent;\n",
              "      border-left-color: var(--fill-color);\n",
              "      border-top-color: var(--fill-color);\n",
              "      border-right-color: var(--fill-color);\n",
              "    }\n",
              "    40% {\n",
              "      border-color: transparent;\n",
              "      border-right-color: var(--fill-color);\n",
              "      border-top-color: var(--fill-color);\n",
              "    }\n",
              "    60% {\n",
              "      border-color: transparent;\n",
              "      border-right-color: var(--fill-color);\n",
              "    }\n",
              "    80% {\n",
              "      border-color: transparent;\n",
              "      border-right-color: var(--fill-color);\n",
              "      border-bottom-color: var(--fill-color);\n",
              "    }\n",
              "    90% {\n",
              "      border-color: transparent;\n",
              "      border-bottom-color: var(--fill-color);\n",
              "    }\n",
              "  }\n",
              "</style>\n",
              "\n",
              "  <script>\n",
              "    async function quickchart(key) {\n",
              "      const quickchartButtonEl =\n",
              "        document.querySelector('#' + key + ' button');\n",
              "      quickchartButtonEl.disabled = true;  // To prevent multiple clicks.\n",
              "      quickchartButtonEl.classList.add('colab-df-spinner');\n",
              "      try {\n",
              "        const charts = await google.colab.kernel.invokeFunction(\n",
              "            'suggestCharts', [key], {});\n",
              "      } catch (error) {\n",
              "        console.error('Error during call to suggestCharts:', error);\n",
              "      }\n",
              "      quickchartButtonEl.classList.remove('colab-df-spinner');\n",
              "      quickchartButtonEl.classList.add('colab-df-quickchart-complete');\n",
              "    }\n",
              "    (() => {\n",
              "      let quickchartButtonEl =\n",
              "        document.querySelector('#df-3a345968-5fb0-4d01-a306-1e9389e5e538 button');\n",
              "      quickchartButtonEl.style.display =\n",
              "        google.colab.kernel.accessAllowed ? 'block' : 'none';\n",
              "    })();\n",
              "  </script>\n",
              "</div>\n",
              "    </div>\n",
              "  </div>\n"
            ]
          },
          "metadata": {},
          "execution_count": 69
        }
      ]
    },
    {
      "cell_type": "markdown",
      "source": [
        "### Visualizing predictions"
      ],
      "metadata": {
        "id": "4QkSP09_Elhq"
      }
    },
    {
      "cell_type": "code",
      "source": [
        "plt.plot(result.index , result['Open'], 'r',label='Actual Open')\n",
        "plt.plot(result.index , result['Predicted Open'],'b',label='Predicted Open')\n",
        "plt.legend()\n",
        "plt.title('Test Data Actual Open Vs. Predicted Open')\n",
        "plt.xticks(rotation=45)\n",
        "plt.show()"
      ],
      "metadata": {
        "colab": {
          "base_uri": "https://localhost:8080/",
          "height": 489
        },
        "id": "8JVhIvibDldD",
        "outputId": "ba6015c7-afe9-4463-f248-66658fa74234"
      },
      "execution_count": null,
      "outputs": [
        {
          "output_type": "display_data",
          "data": {
            "text/plain": [
              "<Figure size 640x480 with 1 Axes>"
            ],
            "image/png": "[encoded data removed]"
          },
          "metadata": {}
        }
      ]
    },
    {
      "cell_type": "code",
      "source": [
        "plt.plot(result.index , result['Close'], 'r',label='Actual Open')\n",
        "plt.plot(result.index , result['Predicted Close'],'b',label='Predicted Open')\n",
        "plt.legend()\n",
        "plt.title('Test Data Actual Close Vs. Predicted Close')\n",
        "plt.xticks(rotation=45)\n",
        "plt.show()"
      ],
      "metadata": {
        "colab": {
          "base_uri": "https://localhost:8080/",
          "height": 489
        },
        "id": "Ip902nlqJcqE",
        "outputId": "5a7d62a6-47fa-4410-85e9-b0b2caa2ef8b"
      },
      "execution_count": null,
      "outputs": [
        {
          "output_type": "display_data",
          "data": {
            "text/plain": [
              "<Figure size 640x480 with 1 Axes>"
            ],
            "image/png": "[encoded data removed]"
          },
          "metadata": {}
        }
      ]
    },
    {
      "cell_type": "markdown",
      "source": [
        "## Scoring metrics"
      ],
      "metadata": {
        "id": "tkzbG96TJmca"
      }
    },
    {
      "cell_type": "code",
      "source": [
        "def mean_absolute_percentage_error(y_test,y_predict):\n",
        "  return np.mean(np.abs((y_test-y_predict)/y_test)) *100"
      ],
      "metadata": {
        "id": "cphoSRXQJoeF"
      },
      "execution_count": null,
      "outputs": []
    },
    {
      "cell_type": "code",
      "source": [
        "from sklearn.metrics import mean_absolute_error, mean_squared_error"
      ],
      "metadata": {
        "id": "A1mqz2BpKUth"
      },
      "execution_count": null,
      "outputs": []
    },
    {
      "cell_type": "markdown",
      "source": [
        "### Test Open scores"
      ],
      "metadata": {
        "id": "8EVJlsaOKa5U"
      }
    },
    {
      "cell_type": "code",
      "source": [
        "print('Test Mean Absolute Error:', mean_absolute_error(result['Open'], result['Predicted Open']))\n",
        "print('Test Root Mean Squared Error:',np.sqrt(mean_squared_error(result['Open'], result['Predicted Open'])))\n",
        "print('Test Mean Absolute percentage Error:',mean_absolute_percentage_error(result['Open'], result['Predicted Open']))"
      ],
      "metadata": {
        "colab": {
          "base_uri": "https://localhost:8080/"
        },
        "id": "nuqF3SQ7KXot",
        "outputId": "52991f55-1927-43c9-ece6-3619ad07444d"
      },
      "execution_count": null,
      "outputs": [
        {
          "output_type": "stream",
          "name": "stdout",
          "text": [
            "Test Mean Absolute Error: 0.0391434907386898\n",
            "Test Root Mean Squared Error: 0.047899803857552166\n",
            "Test Mean Absolute percentage Error: 1.0164408600729398\n"
          ]
        }
      ]
    },
    {
      "cell_type": "markdown",
      "source": [
        "### Test Close scores"
      ],
      "metadata": {
        "id": "sNpfReRHK22p"
      }
    },
    {
      "cell_type": "code",
      "source": [
        "print('Test Mean Absolute Error:', mean_absolute_error(result['Close'], result['Predicted Close']))\n",
        "print('Test Root Mean Squared Error:',np.sqrt(mean_squared_error(result['Close'], result['Predicted Close'])))\n",
        "print('Test Mean Absolute percentage Error:',mean_absolute_percentage_error(result['Close'], result['Predicted Close']))"
      ],
      "metadata": {
        "colab": {
          "base_uri": "https://localhost:8080/"
        },
        "id": "bvOZ5qjJK53z",
        "outputId": "c242d7f5-f31e-45ee-8a9e-3201d7bde11d"
      },
      "execution_count": null,
      "outputs": [
        {
          "output_type": "stream",
          "name": "stdout",
          "text": [
            "Test Mean Absolute Error: 0.05083359366747455\n",
            "Test Root Mean Squared Error: 0.06588371899231167\n",
            "Test Mean Absolute percentage Error: 1.3146941707827564\n"
          ]
        }
      ]
    }
  ]
}